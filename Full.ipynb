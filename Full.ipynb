{
 "cells": [
  {
   "cell_type": "markdown",
   "id": "everyday-innocent",
   "metadata": {},
   "source": [
    "# The Best Neighborhood in Pittsburgh\n",
    "\n",
    "## Introduction\n",
    "\n",
    "We went through a few ideas before we settled on our topic. We always had recreational activities in mind, but we wanted to make this project interesting. We went from best neighborhoods for recreational activities, to best places to party, to best places for parkour, to best places to meet an alien. We asked ourselves what we would look for in a neighborhood when visiting a new city. We used a few metrics to determine the best neighborhood from publicly available datasets. "
   ]
  },
  {
   "cell_type": "markdown",
   "id": "southern-murder",
   "metadata": {},
   "source": [
    "## The Metric\n",
    "### The Best Neighborhood to Befriend an Alien\n",
    "We decided to search for things that are culturally significant to humans but also easy to understand for aliens. We aim to visit the neighborhood with the most of each feature to provide a fun and meaningful visit for the alien.\n",
    "We wanted to focus on playgrounds and green spaces, but it turned out that focusing on courts/rinks was easier than analyzing land area and location. We thought adding public art into the mix would be useful since we want to communicate to this alien the values of humanity through artistic expression. This expression can not only communicate human emotion, but also human events.\n",
    "\n",
    "The following datasets were used:\n",
    "- [**City Courts and Rinks**](https://data.wprdc.org/dataset/city-of-pittsburgh-courts)\n",
    "- [**City of Pittsburgh Playgrounds**](https://data.wprdc.org/dataset/playgrounds)\n",
    "- [**City of Pittsburgh Public Art**](https://data.wprdc.org/dataset/city-of-pittsburgh-public-art)"
   ]
  },
  {
   "cell_type": "markdown",
   "id": "mediterranean-shannon",
   "metadata": {},
   "source": [
    "---"
   ]
  },
  {
   "cell_type": "markdown",
   "id": "passing-transportation",
   "metadata": {},
   "source": [
    "## The Best Neighborhood"
   ]
  },
  {
   "cell_type": "code",
   "execution_count": null,
   "id": "labeled-trinity",
   "metadata": {},
   "outputs": [],
   "source": [
    "import pandas as pd\n",
    "import numpy as np\n",
    "#import geopandas unused in playground notebook\n",
    "%matplotlib inline\n",
    "import matplotlib.pyplot as plt"
   ]
  },
  {
   "cell_type": "markdown",
   "id": "published-apparatus",
   "metadata": {},
   "source": [
    "The above code cell loads in the libraries needed for this Notebook."
   ]
  },
  {
   "cell_type": "markdown",
   "id": "grateful-diagram",
   "metadata": {},
   "source": [
    "### Courts and Rinks"
   ]
  },
  {
   "cell_type": "code",
   "execution_count": null,
   "id": "stylish-facial",
   "metadata": {},
   "outputs": [],
   "source": [
    "# load the Courts and Rinks data set\n",
    "Courts_Rinks = pd.read_csv(\"https://data.wprdc.org/datastore/dump/a5b71bfa-840c-4c86-8f43-07a9ae854227\")"
   ]
  },
  {
   "cell_type": "markdown",
   "id": "decimal-turner",
   "metadata": {},
   "source": [
    "Here is the first question: \n",
    "#### What kind of sport would be the easiest to play with an alien?"
   ]
  },
  {
   "cell_type": "code",
   "execution_count": null,
   "id": "genuine-cisco",
   "metadata": {},
   "outputs": [],
   "source": [
    "print(Courts_Rinks[\"type\"].unique())"
   ]
  },
  {
   "cell_type": "markdown",
   "id": "collectible-wednesday",
   "metadata": {},
   "source": [
    "From these available rinks/courts we need to come up with a rational for which sport we want to play."
   ]
  },
  {
   "cell_type": "markdown",
   "id": "thorough-generic",
   "metadata": {},
   "source": [
    "#### Now we need to decide what earthly sport would be best suited to help befriend an alien...\n",
    "\n",
    "Basketball is pretty easy to explain. Ball goes in hoop. There are a few fouls that would need to be covered but in general this sport is one of the easiest to explain to our alien friends. There is also many different ways we could play instead of a normal game, like trying to play HORSE or just making free throws to enjoy a less intense version of the sport. Basketball is also really popular in many countries and would have good cultural significance. \n",
    "\n",
    "***\n"
   ]
  },
  {
   "cell_type": "markdown",
   "id": "verified-valuation",
   "metadata": {},
   "source": [
    "First, since we determined the best sport to play with an alien is basketball, lets **filter out** the sports that didn't make the cut! This way we can focus on only the basketball courts in Pittsburgh."
   ]
  },
  {
   "cell_type": "code",
   "execution_count": null,
   "id": "quiet-skating",
   "metadata": {},
   "outputs": [],
   "source": [
    "query_mask = Courts_Rinks['type'].str.contains(\"Basketball\")\n",
    "\n",
    "basketball = Courts_Rinks[query_mask]\n",
    "\n",
    "basketball.head(5)"
   ]
  },
  {
   "cell_type": "markdown",
   "id": "received-liver",
   "metadata": {},
   "source": [
    "Now that we filtered our data set down to only basketball courts, we can count the number of basketball courts in each neighborhood.\n",
    "\n",
    "Below is a table of the top 10 neighborhoods that have the most basketball courts."
   ]
  },
  {
   "cell_type": "code",
   "execution_count": null,
   "id": "basic-criterion",
   "metadata": {},
<<<<<<< HEAD
   "outputs": [
    {
     "data": {
      "text/html": [
       "<div>\n",
       "<style scoped>\n",
       "    .dataframe tbody tr th:only-of-type {\n",
       "        vertical-align: middle;\n",
       "    }\n",
       "\n",
       "    .dataframe tbody tr th {\n",
       "        vertical-align: top;\n",
       "    }\n",
       "\n",
       "    .dataframe thead th {\n",
       "        text-align: right;\n",
       "    }\n",
       "</style>\n",
       "<table border=\"1\" class=\"dataframe\">\n",
       "  <thead>\n",
       "    <tr style=\"text-align: right;\">\n",
       "      <th></th>\n",
       "      <th>neighborhood</th>\n",
       "      <th>counts</th>\n",
       "    </tr>\n",
       "  </thead>\n",
       "  <tbody>\n",
       "    <tr>\n",
       "      <th>0</th>\n",
       "      <td>Beechview</td>\n",
       "      <td>6</td>\n",
       "    </tr>\n",
       "    <tr>\n",
       "      <th>1</th>\n",
       "      <td>South Side Slopes</td>\n",
       "      <td>5</td>\n",
       "    </tr>\n",
       "    <tr>\n",
       "      <th>2</th>\n",
       "      <td>Hazelwood</td>\n",
       "      <td>5</td>\n",
       "    </tr>\n",
       "    <tr>\n",
       "      <th>3</th>\n",
       "      <td>Terrace Village</td>\n",
       "      <td>4</td>\n",
       "    </tr>\n",
       "    <tr>\n",
       "      <th>4</th>\n",
       "      <td>Squirrel Hill South</td>\n",
       "      <td>4</td>\n",
       "    </tr>\n",
       "    <tr>\n",
       "      <th>5</th>\n",
       "      <td>Elliott</td>\n",
       "      <td>4</td>\n",
       "    </tr>\n",
       "    <tr>\n",
       "      <th>6</th>\n",
       "      <td>Beltzhoover</td>\n",
       "      <td>4</td>\n",
       "    </tr>\n",
       "    <tr>\n",
       "      <th>7</th>\n",
       "      <td>Sheraden</td>\n",
       "      <td>4</td>\n",
       "    </tr>\n",
       "    <tr>\n",
       "      <th>8</th>\n",
       "      <td>Troy Hill</td>\n",
       "      <td>3</td>\n",
       "    </tr>\n",
       "    <tr>\n",
       "      <th>9</th>\n",
       "      <td>Brookline</td>\n",
       "      <td>3</td>\n",
       "    </tr>\n",
       "  </tbody>\n",
       "</table>\n",
       "</div>"
      ],
      "text/plain": [
       "          neighborhood  counts\n",
       "0            Beechview       6\n",
       "1    South Side Slopes       5\n",
       "2            Hazelwood       5\n",
       "3      Terrace Village       4\n",
       "4  Squirrel Hill South       4\n",
       "5              Elliott       4\n",
       "6          Beltzhoover       4\n",
       "7             Sheraden       4\n",
       "8            Troy Hill       3\n",
       "9            Brookline       3"
      ]
     },
     "execution_count": 5,
     "metadata": {},
     "output_type": "execute_result"
    }
   ],
=======
   "outputs": [],
>>>>>>> 5dd842d85b2210a0dbdcebe580e52ad2ada3746c
   "source": [
    "tally = basketball['neighborhood'].value_counts().rename_axis('neighborhood').reset_index(name='counts')\n",
    "\n",
    "tally.head(10)"
   ]
  },
  {
   "cell_type": "markdown",
   "id": "intimate-microwave",
   "metadata": {},
   "source": [
    "Here is a graph of the distribtutions of neighborhoods and how many courts they have. We can see that many neighborhoods have 1 court but only one neighborhood has 6 courts."
   ]
  },
  {
   "cell_type": "code",
<<<<<<< HEAD
   "execution_count": 6,
   "id": "forty-freedom",
   "metadata": {},
   "outputs": [
    {
     "data": {
      "text/plain": [
       "<AxesSubplot:xlabel='Number of Courts', ylabel='Number of Neighborhoods'>"
      ]
     },
     "execution_count": 6,
     "metadata": {},
     "output_type": "execute_result"
    },
    {
     "data": {
      "image/png": "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\n",
      "text/plain": [
       "<Figure size 432x288 with 1 Axes>"
      ]
     },
     "metadata": {
      "needs_background": "light"
     },
     "output_type": "display_data"
    }
   ],
=======
   "execution_count": null,
   "id": "threaded-dance",
   "metadata": {},
   "outputs": [],
>>>>>>> 5dd842d85b2210a0dbdcebe580e52ad2ada3746c
   "source": [
    "tally[\"counts\"].value_counts().sort_index().plot(kind='bar', rot=0, xlabel = \"Number of Courts\", ylabel = \"Number of Neighborhoods\")"
   ]
  },
  {
   "cell_type": "markdown",
   "id": "decimal-diabetes",
   "metadata": {},
   "source": [
    "As shown in the table and the graph, we can see that according to the number of basketball courts in Pittsburgh, Beechview is the best neighborhood for befriending an alien!"
   ]
  },
  {
   "cell_type": "markdown",
   "id": "subjective-diameter",
   "metadata": {
    "tags": []
   },
   "source": [
    "---\n",
    "\n",
    "### Playgrounds\n",
    "\n",
    "Just like sports courts and rinks, playgrounds provide an area to have fun and unwind. They're also pretty safe, being built with children in mind, making them an excellent, non-dangerous choice for our alien buddy.\n",
    "\n",
    "To ensure there's plenty of variety, the neighborhood with the most playgrounds will be evaluated."
   ]
  },
  {
   "cell_type": "code",
   "execution_count": null,
   "id": "arbitrary-empty",
   "metadata": {},
   "outputs": [],
   "source": [
    "# load Playgrounds data from WPRDC\n",
    "playground_data = pd.read_csv(\"https://data.wprdc.org/datastore/dump/47350364-44a8-4d15-b6e0-5f79ddff9367\",\n",
    "                           index_col=\"id\") # using id as row index"
   ]
  },
  {
   "cell_type": "markdown",
   "id": "worth-conversation",
   "metadata": {},
   "source": [
    "The data for Playgrounds in Pittsburgh is downloaded directly from the WPRDC."
   ]
  },
  {
   "cell_type": "code",
   "execution_count": null,
   "id": "expected-indianapolis",
   "metadata": {},
<<<<<<< HEAD
   "outputs": [
    {
     "data": {
      "text/html": [
       "<div>\n",
       "<style scoped>\n",
       "    .dataframe tbody tr th:only-of-type {\n",
       "        vertical-align: middle;\n",
       "    }\n",
       "\n",
       "    .dataframe tbody tr th {\n",
       "        vertical-align: top;\n",
       "    }\n",
       "\n",
       "    .dataframe thead th {\n",
       "        text-align: right;\n",
       "    }\n",
       "</style>\n",
       "<table border=\"1\" class=\"dataframe\">\n",
       "  <thead>\n",
       "    <tr style=\"text-align: right;\">\n",
       "      <th></th>\n",
       "      <th>neighborhood</th>\n",
       "      <th>counts</th>\n",
       "    </tr>\n",
       "  </thead>\n",
       "  <tbody>\n",
       "    <tr>\n",
       "      <th>0</th>\n",
       "      <td>Squirrel Hill South</td>\n",
       "      <td>8</td>\n",
       "    </tr>\n",
       "    <tr>\n",
       "      <th>1</th>\n",
       "      <td>Beechview</td>\n",
       "      <td>5</td>\n",
       "    </tr>\n",
       "    <tr>\n",
       "      <th>2</th>\n",
       "      <td>South Side Slopes</td>\n",
       "      <td>5</td>\n",
       "    </tr>\n",
       "    <tr>\n",
       "      <th>3</th>\n",
       "      <td>Allegheny Center</td>\n",
       "      <td>4</td>\n",
       "    </tr>\n",
       "    <tr>\n",
       "      <th>4</th>\n",
       "      <td>Beltzhoover</td>\n",
       "      <td>4</td>\n",
       "    </tr>\n",
       "    <tr>\n",
       "      <th>5</th>\n",
       "      <td>Highland Park</td>\n",
       "      <td>4</td>\n",
       "    </tr>\n",
       "    <tr>\n",
       "      <th>6</th>\n",
       "      <td>Sheraden</td>\n",
       "      <td>4</td>\n",
       "    </tr>\n",
       "    <tr>\n",
       "      <th>7</th>\n",
       "      <td>Carrick</td>\n",
       "      <td>3</td>\n",
       "    </tr>\n",
       "    <tr>\n",
       "      <th>8</th>\n",
       "      <td>Crawford-Roberts</td>\n",
       "      <td>3</td>\n",
       "    </tr>\n",
       "    <tr>\n",
       "      <th>9</th>\n",
       "      <td>Mount Washington</td>\n",
       "      <td>3</td>\n",
       "    </tr>\n",
       "  </tbody>\n",
       "</table>\n",
       "</div>"
      ],
      "text/plain": [
       "          neighborhood  counts\n",
       "0  Squirrel Hill South       8\n",
       "1            Beechview       5\n",
       "2    South Side Slopes       5\n",
       "3     Allegheny Center       4\n",
       "4          Beltzhoover       4\n",
       "5        Highland Park       4\n",
       "6             Sheraden       4\n",
       "7              Carrick       3\n",
       "8     Crawford-Roberts       3\n",
       "9     Mount Washington       3"
      ]
     },
     "execution_count": 8,
     "metadata": {},
     "output_type": "execute_result"
    }
   ],
=======
   "outputs": [],
>>>>>>> 5dd842d85b2210a0dbdcebe580e52ad2ada3746c
   "source": [
    "# makes new dataframe of how many playgrounds are in each neigborhood\n",
    "tally = playground_data['neighborhood'].value_counts().rename_axis('neighborhood').reset_index(name='counts')\n",
    "\n",
    "tally.head(10)"
   ]
  },
  {
   "cell_type": "markdown",
   "id": "resident-colon",
   "metadata": {},
   "source": [
    "Next, a new dataset is created from the original data of Playgrounds in Pittsburgh. This new dataset, \"tally,\" counts the amount of playgrounds within each neighborhood.\n",
    "\n",
    "In the table above, the top 10 neighborhoods with the most playgrounds are shown. Squirrel Hill South seems to be the definitive winner, with 8 playgrounds in total."
   ]
  },
  {
   "cell_type": "code",
<<<<<<< HEAD
   "execution_count": 9,
   "id": "molecular-monte",
   "metadata": {},
   "outputs": [
    {
     "data": {
      "text/plain": [
       "<AxesSubplot:ylabel='counts'>"
      ]
     },
     "execution_count": 9,
     "metadata": {},
     "output_type": "execute_result"
    },
    {
     "data": {
      "image/png": "iVBORw0KGgoAAAANSUhEUgAAAPUAAADnCAYAAADGrxD1AAAAOXRFWHRTb2Z0d2FyZQBNYXRwbG90bGliIHZlcnNpb24zLjQuMSwgaHR0cHM6Ly9tYXRwbG90bGliLm9yZy/Z1A+gAAAACXBIWXMAAAsTAAALEwEAmpwYAAAgHklEQVR4nO3deXxU9b3/8ddnZpKwhbAjgcCgKJuCIGJRUItXu+S2tf6uS/vzNm6ttrRCNzttb+vUXmtq7fZrb69t3WitVq9W28u0VetPFKUKCtKhJFSUoOyLMCEkmSRzvvePM14RSZiZzMx3zsnn+XjkweJkvh9M3vme8z3fRYwxKKX8I2C7AKVUfmmolfIZDbVSPqOhVspnNNRK+YyGWimf0VAr5TMaaqV8RkOtlM9oqJXyGQ21Uj6joVbKZzTUSvmMhlopn9FQK+UzGmqlfEZD7QEicpeI7BaR9bZrUaVPQ+0N9wDvt12E8gYNtQcYY54B3rRdh/IGDbVSPqOhVspnNNRK+YyGWimf0VB7gIjcD/wVmCwiW0Xkats1qdIlupm/Uv6iPbVSPqOhVspnQrYLUPkXjsSCwCigGhjTza+DgdQxPrqAXcAWoOnwX5vqa1uL9e9R2dF7ao8LR2JhYDYwK/3rDNzgBgvc9B7eDvorwCrgr031tbsK3K46Bg21h4QjsTLgNGB++uNMYKTVot5tC/A8sAJ4qqm+doPlevocDXWJC0diVcBHgIuB84D+divK2g7gKeBJ4A9N9bV7LdfjexrqEnREkC8Ayu1WlDedwGPAvcDvm+pr2y3X40sa6hKRDvKHgUvwV5C70ww8jBvw5U31tY7lenxDQ21ZOBKbDXwZ+ChQYbkcW7YC9wG/bqqv1Y0geklDbUk4Ejsf+ArufbJ621PAt5rqa5+2XYhXaaiLKP38+GLgBtxHUKp7zwDfbqqv/YvtQrxGQ10E4UisP3AV8EVgouVyvGYlbrj/bLsQr9BQF1A4EgsAnwZupPSeJ3vNKtxwL7NdSKnTUBdIOBKbC/wMd7KIyp/VwHVN9bVrbBdSqjTUeRaOxIYBtwDXoAtmCiUF/BD4ZlN9bZvtYkqNhjpPwpGYAFcC3wVGWC6nr3gNuFYH095JQ50H4UhsJu6l9pm2a+mjlgJfaKqv1W2U0VD3SjgSCwHfxp08UuhVUapne4AlTfW199kuxDYNdY7CkdgE4H5gnu1a1DvEgCub6mv32C7EFg11DsKR2IXAXcBQy6Woo9sK/EtTfe0LtguxQUOdhfSMsFuBL9iuRR1TB+7l+H/aLqTYNNQZCkdiw4EH0LnaXrMUd4Q8abuQYtFQZyAciZ0KPAKE7VaicrQS+GhTfe1u24UUg06OOIZwJPYB4Dk00F52JrAqHImdbLuQYtBQ9yA9IPYoMMBuJSoPJgArw5HYBbYLKTQNdTfCkdilwH/h/x1I+pJK4Pd+D7aG+ijCkdgngN+g+6L7UT/g0XAk5tsBTw31EcKR2KeAe9AZYn7WH/jvcCT2XtuFFIKG+jDhSOx64OeA2K5FFVx/YFk4EjvHdiH5pqFOC0diNwA/tl2HKqoBQCwciS2wXUg+6XNqIByJXQXcabsOZU0L8P6m+trnbBeSD30+1OFIbD7u6RE6yt23HQTOaaqvXWu7kN7q06FOr7Raje4fplxNwJym+tp9tgvpjT57Tx2OxAYBf0ADrd4WBu5PbxjpWZ4uPlfprYfuxT32VanDnQ/cbLuI3uiTocb9on3EdhGqZEXCkdhFtovIVZ+7pw5HYh/HnS2mVE8OAmc01dc22C4kW30q1OFI7BTcTeH72a5FecJGYG5TfW2z7UKy0Wcuv9O7ltyNBlplbjKwND0G4xl9JtS4O37qaRkqWxcCn7RdRDb6xOV3OBKbAqxFe2mVm/3AFK/snOL7njr9zPFONNAqd0Nxj/nxBN+HGrgePTlD9d7Hw5HY+baLyISvL7/DkdjxQBzdjkjlxybglKb62nbbhfTEtz11esTyl2igVf5MAr5uu4hj8W2ocU+gXGi7COU7N6QHXkuWLy+/w5FYf9xLpWrbtShfegY4t6m+tiTD49ee+nNooFXhnA1cZruI7viupw5HYkNwDyPXw+tUITUC05vqax3bhRzJjz31l9FAq8KbQon21r7qqcOR2DDc3SsqLZei+oaNwLRS66391lMvRgOtimcyJdhb+ybU4UisEneATKliusF2AUfyTaiBRei9tCq+maU2fdQXoU6vlb7edh2qz/qS7QIO54tQAxcAY2wXofqsC9K76pQEv4T6CtsFqD7vWtsFvMXzj7TSk012AhWWS1F9226guqm+NmW7ED/01JehgVb2jQJK4sxrP4T6CtsFKJX2MdsFgMcvv8OR2GTcObhKlYIEMLqpvjZpswiv99RX2C5AqcNUAR+wXYRnQ53eUPBfbdeh1BGsX4J7NtS4mwmOtV2EUkf4UPpEVWu8HGrdqkiVov5YPnzRy6E+13YBSnXjwzYb92Sow5FYBTDPdh1KdeMsm417MtTAe9ATN1TpGhuOxMbbatyroT7XdgFKHYO1U2E01EoVhoY6U+FIrB96P61Kn4Y6C+9BF3Co0jczHIlZOfLJi6FeYLsApTIQAubaaNiLoZ5quwClMmTlEtyLoT7edgFKZegMG416MdQn2C5AqQxZ6YAyCrWILBaRweK6U0TWiMgFhS7uSOFIbDAwotjtKpWjGhuNZtpTX2WMacbdtXMk7tnP9QWrqnvaSysvqbKxYivTUEv61w8Cdxtj1h32d8WkoVZeU/TeOtNQvyQij+OG+jERqQRsHAqmoVZeU/RQhzJ83dXAqcBrxphWERmOewlebDryrbxmXLEbzLSnfsIYs8YYcwDAGLMP+GHBquqe9tTKa0qrpxaRfsAAYISIDOXt++jBQHWBazsa3b5IeU1phRr3KJEluAF+ibdD3Qz8R+HK6tZAC20q1RtFv/zuMdTGmB8DPxaRzxljflKkmnqioVZeM6rYDWY0UGaM+YmInAmED/8cY8yvClRXdzTUymvKit1gRqEWkV/jDlK9DLx1AJgBihbq9D7fuuRSeU1phhqYA0wzds/oKbfYtlK5KnqoM32ktR44rpCFZMCLi0+UyrTjLHqDI4ANIrIK+N/Dv4wxxdzf2Ma0VJ8z5sLAcy/dUHaf87OdU3advHWS7B1aE0yGpJ9xEinjNAtOSwintT+mY7CQGgJGr5iyYJAWqM3otSLyeeAa3FvbOHClMaY92zYzDXU02zcuAA11npTTmVwUenTVtcFl1f2kcw7AH+dt25yIb93z6Zgzub1iWOv26vmbdo0+p6K9Ytg0RP53UYJx2g4Y5+A+4yQOGifRalIHOo2TwDgtIWPa+mM6KqFrGDAM/ZohmEMZvU5kLHA97m1um4g8iHv2+j3Ztpnp6PfT2b5xAfT5b5DeGkZiX7TsV/HawPPTg2LesS3UqK7U7uUzQmc0jpM3br3rzZYTNv9hwQmb/4AjwY69I2as3VY9v/lA1QnjCfSfKIH+Q471pMYYpwvTstekmg8YJ3HQcRLJdO8PTkuFMe0DMZ1V4AzH3081OrN4bQjoLyKduJO+tufSYKaj3wdxLwnAHbAqAw4ZYwbn0miOWnEXkei9dZZOkjc215f98o1Zsul0kaNvrzy5o6NtW1mIncOk5uolwfZv3ZtaMWkHCwImVT5qz9pZo/asBaC1/6jXt1UvaNo1avaAjvKq6Yj0P9r7iQRCyODjJDD4OBhHsIf6jOk45Pb+zQmTShwyzoEO4ySMcQ4GjdNagUkOgq6hYEZg4R61l1ozeZExZpuI3Aa8DrQBjxtjHs+lwZwOnReRC4G5xpiv5dJorsKR2G7c9dwqAwsDa9Z9u+zuZDX7Thfp+Upn6eDKlbcNH/qOPbX+z7POs5escE4T99C3d0kFytp2j5z19+1jzmptHjxxogkECzol0hhjMK1vGufgm8ZJHDSpRJtxDnQZpxnjtJSlL/8HQ2oYMLSQtWTh+S8+sOyYW1qnp2E/DFwKHAD+C3jIGHNvtg3m9FPPGPOoiERy+dxe2oWGukdBUl1XBB9b9fnQQ0MGSfvMTD9vVjL5rh1lHp4fmL9uomy86d5Uv5DDhHe15XT2H7Nr1Zwxu1YB0DKwevPW6rNf3zNy5uDOssrpiOR1UE1EBBk4XAIDhx/rYYwxqQ7jtOw1TvMB4xxoMU4iaVIJxzjNgjlUYUzyrcv/EXTzQytPmjN83T8Bm40xewBE5He4GxcWJtQictFhfwzgPre28cx6t4U2PWEQrc1fC9239pLg8kkhcbLexXJKsmMCxqQQeceV8qaxMvmaxcHErXelXhiV6HkjvUGHtk+c8spvJ0555bd0BStado2a8/L2MWcmD1bWTEKCY7KtqTdEguUSrKomWFV9rDUVxiQPGufgPpNqThjnQKtxDnS6l/8tQeO09sMkKyE1FMxw6PFO4mj2Z/i614H3iMgA3Mvv84AXs2wLyLyn/tBhv+8CmrBzBu8uC22WtBrZve2W0B2bzgqsnyXCObm+TzlUlEFTpzsV+B1a+0nVZz8TOuPaP6aWL1xn5ksG3zehVHLQ2B3PzR274zkAmisnvLK1+uzte0ecMrQrNGAaIiVzbyxSUSnBikqCPW9/Z4xxMIf2vn35f6DNOAdSxmkW4xwqM6ZtAKZzMKSG465kBNiTSQ3GmBdE5CFgDW7G1gK/yOXfk+not40NEY5Ge+q0udKw4ZayOw4cLzvmiuRnSerIrtSu7WWhcHf//ecfDJ67+kRn3Q0PO2MCJruFCoMPbjlx2sZfn8hG6Az1T+wcfcaGHWPmOS0Dq09CAp64pRKRADJohAQGjYCeLzyM6Wo3Tss+zKHXMn1/Y8yNwI29rTPTy+9xwE9wz901wLPAYmPM1t4WkKU+3lMbc0lw+eqvhu6vGCotGd8vZ+qkjo727WU9f0usOTEw89OLZPdtd6TWVbaTUw1lXW1VNduWz6vZthwDJlE1qWFr9YLd+4ZPH5EK9puKiOefcIiE+klwyFgYkunld95kegl0N3AfcHH6z5en/+78QhTVgz4Z6n4k25aEHl59VfDPNeXSVbCjXGYlk2XLBx77+Kf9lTLqk4uDwyIPOstP3WzO7U2bAjIksWnqkMSmqQAdZYP27Thu3sYdx72H1gGjp+KOCnvZG8VuMNNQjzTG3H3Yn+8RkSUFqOdY+tTl9yj277mp7J6/XxB48ZSAmLML3d5p7cnhmb7WCUjoO5cFzz1vrfPCp/7sTBGoykcN5Z0twye88cSZE954AoOk3hw6ef226rP3vTlsymgnUD4ZEa9NQir21WzGod4rIpcD96f//DFgX2FK6lFOM2y8Zpo0vfrdsl9sP1ma5nY3WaQQpnR0TMAYJ5vL3ydnBc5orJEt9XendlZ0MTmf9QgmOHx/48nD9zcC0F4+ZNf26jNf2TV6bqit34hpiBRz8lMuHNxR7aLKaPKJiIwHfop7LrQBVgLXG2OKWnD6bOpmLCxnK4YPBl5Yc2PZUmcUB0471mSRQpkVrtnSJfKuZ9LHUt5p2v79V6mXwruZX4i6juRIoHPfsOkbtlUvOHBgyIljnWD5pGK0m6VNi25feGKxG8001EuBJcaY/ek/DwNuM8ZcVeD63iUcia3F3a7YF0J0dV4bXPbCotCjIwdIR157ulxcUFO9akcolPN9+6VPp1ZctNKcLtAvn3UdS1u/4du2Vc9/bdeoORXJiqHTESmF+eSPLLp94UXHfhmISBNwEHcTki5jzJxcG8308nvGW4EGMMa8KSKzcm20l17EB6GuouXAN8ruffmjgRVTgmKK0rtl4sSOzrYdodwfIT9wTnDBy8ebhhvvSw0KOcXbSbN/+76xk177/dhJr/0eR0LJPSNmrNlWvaAlUXX8eBPo/jFdga3P8vXvNcbs7W2jmX71AiIy9Iie2tbkgZdw15x60kTZ/np92R2b50rjnGLeL2dqdnsy9MyA3s2a3FgjUz95fTDxvbtSq0Y0F//g9YDpqhi9Z83s0XvWAHBowOgt26oXbNk9cvbAjvLB03G3vi6GdUVq5x0yDeb3gZXpGS8GuAS4uWBV9SynqXO2zQ/E4zeH7jw0XnbPFWG87Xq6M7u9PeMR8J4c6i9Vn/lM8PRFy5zlZ683CyT76ZV5M7B114STNj004aRND5EKlLfuHjVr9bYx89sOVk443gSChdzCN5vvVQM8LiIG+LkxJqfZZJDFKi0RmQYsxF3X/KQxZkOujfZGOBIrx733KPkdOAI4qcuDf1n9pdCDAwdL6ym268lEu0jb6RPGVeRzAsjcjc7aLzzijAuY0luMc3DQuFe3VS/YumfEzKrOskHTEcnXIOyeRbcvzHjWnYhUG2O2i8go4Angc8aYZ3JpOKell7aFI7GXgNm26+jOQNpavhR68KXLg3+ZWCapku2VuzMrXPN6l/vEI2+GN5ud37sjtXtQkhn5fN986gpWHNw5eu6GHWPO7Dw4aNwkJNCbffn+uOj2hZntY3QEEYkCLcaY23L5/JKZVJ+lFynBUI9h386by+5sfG/g5V4trrBtRCq1a2colNdQ7xssx12zJDji6791nj5liynJ/zehVLJy3PYVZ4zbvgKARGX4H9vGLtixd/gpQ7tCA6YfuYLtGP6a6QvFHakPGGMOpn9/AXBTVsUfxsuh/pTtIt5yqmza+N2yX+w9SbYWdbJIoZzY0XloZy9GwLvjBCT07Y8Hz3nfi85fr3rCOVmgMu+N5FHVwaaTqhqbTgLoDA04sPO4Mxq2HzcvdWjgmClIoOclXe4ldKZGA4+kJ8uFgPuMMX/OrWrvhvpJ2wW8tRPnv5XdGxghzbMhv7OpbJrVnixb0csR8J48Nicw7+8TZPMt96R2VnRR9MkZuSjrah1Ss/WpeTVbn8KAOTDkxA3bqhfs3jds2sijLELZTxaDZMaY1yC3xTFH48l7aoBwJLYOin9/dsROnL48WvfFioqGK6tHTy10O+WdpvWWe1Jra/ZyVqHbKqSOssq928fM27hz9BnSOmD0NESeXHT7wn+xVY+XQ30jRdy6+IidOEtuFDefWkUOnTFh3IBiLZ74v0+lnvnw8+YM8cGxSgZJNVdOuOI9q/+U9TZE+eLlUJ8C/K3Q7RyxE2ch97IqKaeGa7am3HX0RTH1dbPhm/enBged4h/9mmcOUD21scHaMmHPhhogHIn9AwpzT5bNTpx+9E811at3hUKnF7PNQa1m/213pl4d1kLO855LwPNTGxuOuXtoIXl9h4nf5fPNgqS6rg7+ceX6iqs23FV+28yxsm9uXww0wKSOzoz2q86nlgEy9LrPBk97dposN26P50V/sF2Ahhp3J87vhO54emNF3a5vlN175iBpn5aP9/WyU5NJO09GROT/fSR47o8uDKx17KzZ7w0DPGi7CK8+0nrLatztYnJaDZSvnTj96LT2pNVthP46NXDapjGy/da7UusHJjnZZi1ZeGpqY8OrtovwdE/dVF9rgEez/by50rDhyfIvrnymfMno+cH154hQ6jtoFN20ZMd4LA+47Bki1dcsDk7eUEMpnOWWiV/aLgA8Huq032T2MmMuCT61am3Fp9Y9WPHtaScEdpwp4vkrlYIZaMygIGyzXUcqKGXRy0PnLD0vsNJAi+16erAPeMR2EeDx0e+3hCOx1XD0EdMjduKcWOTSPO28muoXd4dCJTMSPWGXefXmpSnKU5TipJ8fTW1s+LztIsAfPTW4e5K/wyj277m97IfLN1Rc1XpdaNnZGujsndDRmdHZysWyZbSccM2S4Ohtw1hpu5ajKIlLb/BPqH9Levvg6bJ507Lyrz37QsWiwe8Prj43ICYvi/77olnJpLWNDbrTXi6DPn9t6MzYHHnGZHf2cyGtnNrYYGV/gaPxRaib6ms73hdY/b0XKj7z4rLyr59wcqBpvoj3pxzaNtvyCHhPlp4fPPvfLwtsTElJbBtdMr00+OSeGoBo1ShgC0XexdLPWkQOzgvXlPTyyMGHzL7b7kw1DTnEaZZKeAOYNLWxocNS++/ii54agGhiN3CP7TL8ZJAxlUFjSqEn7FbzQBl+7eeCs16YLE8bO8cr31pKgQY/hdp1G+6+ySpPhqacHbZrOBYjEvj+RcFzfvqhwEsm8/Og82EncEcR28uIv0IdTbwKLLVdhp9M6uws5WfD77Di5MCc668LHmorp1iDVrdObWxoz+SFIhIUkbUisqzQRfkr1K5vAEVfjOBXp7aX3gh4T3YNlXFXLwlO2jiWnHbizMIbwM+yeP1ioKFAtbyD/0IdTWzH3adc5cHs9uQQ2zVkqyso5d/4ROjs35wbeM4U7gf8TVMbG5KZvDB9vnstRbpU91+oXbfSR8+yzrfpHcmiHZ2Tb7+fFzjrq1cEt3UG2Zznt36F7AZlfwTcQJGWk/oz1NFEC3Cj7TL8YLBjqgLG7LRdR65eGyMnXrM4OGLnkMy37M3A4qmNDV2ZvFBE/hnYbYx5KY/t98ifoXbdAUUbMPG1YSnH+sKO3mirkMrrPx2a99hsedpARmHswQNTGxv+lMXrzwI+nD7V8rfAQhEp6P5l/g11NJHCHZxQvXS8h0bAe3Ln+4LnfOeSwIaUkOuVxwGy/J4yxnzVGDPOGBMGLgP+vzHm8hzbz4h/Qw0QTfyFEpvC50Uzk0nffJ+sOyEw47rPBoOJAazN4dNvsLmhYKZ888XqwReB120X4WWneXAEvCeJQTLy2s8FZ7w4KatZaCvo5ei1MWa5Meafe/MemfDP3O+eRKsuAB6zXYZXJQKSmD+hpsp2HYVw7t+cVZ+OOZMFevr3dQAzpzY2NBarrt7oCz01RBOPA3faLsOrqtwR8JK/7MzF8hmBuYuvDTa3l/U4MeQWrwQa+kqoXV/AnQWkcjDE8fYIeE92DpOaq5cEJ756HCuO8p9fAG4udk290XdCHU00A59AF3zk5PgOf4yAd6czJP2+emVowQMLAs8aaEv/9X7g0qmNDaWyGUNG+k6oAaKJ5cBXbJfhRacmk33iUIOH5wfmf/0Twde7AmwBrpra2LDFdk3Z6luhBogmvg88YLsMr/HiHPBcbRork69aEnxgamPDo7ZryUXfC7XramC97SK85JRkh9cPrsvGk+0V8jXbReSqb4Y6mjgEfBRI2C7FK4Y4ztCAMbtt11EEW4DL4nVxz4699M1QA0QTm4DL8e5BbEVX5eMR8LRm4MJ4XXyv7UJ6o++GGiCaWAZcZ7sMrzi+o7PZdg0F1AZ8KF4Xf9l2Ib3Vt0MNEE38Eh0Rz8jMZIdfv1+6gIvjdfFC75ZSFH79ImUnmrgVqLddRqmb3d7ux6miDlAXr4vHbBeSLxrqt0QTXwVut11GKZvhzxHwz8br4vfZLiKfNNTvtAh3Ibs6iqGOM0yM8fQg0hH+LV4X/0/bReSbhvpw0YQD/Ct6KEC3qhxnq+0a8uSmeF3cU3O6M6WhPlI00UU0cSXu5oXqCBM7PT8CngKujdfFfbuHnYa6O9HEV3A3WOgDC84zNyNZUifMZKsV+Gi8Lv4L24UUkoa6J9HED4A6er9ZnW/MaU8Otl1DjvYC58Xr4v9tu5BC01AfSzTxa+DDgK+XHmbqlHZP7gO+GTgrXhd/3nYhxaChzkQ08SfgdIp0bEopG+44w8WYfbbryMKLwLx4XfwftgspFg11pqKJRmAu+siLwY7jlR1kfozbQ/tyK6buhGwX4CnuyR8fI1q1Eve8rjLLFVkR7uxqXhcs6XPz9gFX9oX756PRnjoX0cRPgLMBvzyzzcrMZEbnwtnyDDCzrwYaNNS5iyaeB04FCnqESimaXZoj4CngW8DCeF3c70tEe9Q39v0utGjVB3DnjY+3XUox7AkG9i4cP26E7ToOsxn3cvtp24WUAu2p88EdHT8Z9xBy3/+UHJlyRogxb9quA+gEbgGma6Dfpj11vkWr5uMezzLZdimFNH/82L8lgsEZFkt4GvhMvC6uJ5seQXvqfIsmngVm4E4x3W+5moIZ39lla3+3LcCl8br4uRroo9NQF0I00ZGeYnoC8AOgpIeLczEjmSz23m4HgW8CU+J18QeL3Lan6OV3MUSraoBvAFfik7kBTwzov/YLo0fOKkJT+3Ankfw0Xhf37ZVPPmmoiylaNQn4Mu6a7f6Wq+mV3cHg7vPGjx1VwCa2407w+Xm8Ln4o008SkX64z6orcH+APmSM8e0yy6PRUNsQrRoGfBJ3pxUvLpAAYEa4Zr8RGZrnt30Vdy37PfG6eNbrPEVEgIHGmBYRKQOeBRYbY/rEYg7Qe+peEZEaEXlKRBpE5O8isjijT4wm3iSa+C5wPHApsLKQdRZKZf52QekClgEXA5PjdfFf5BJoAON6a0VdWfqjT/Vc2lP3goiMAcYYY9aISCXwEnChMSb7Udlo1Wzg48AleKT3/lj16BXrKyoW9OIt1gC/Au6P18XzdvqHiARxvxaTgP8wxvSpLaB9MWhjizFmB7Aj/fuDItIAjAVyCHViDbCGaNWXgXm4PfjFwJi8FZxnp7R3mPUVFdl+2jbgN8Cv4nXxv+e/KjDGpIBTRWQI8IiInGyM6TNnp2lPnSciEsYdoDnZGJOffbyiVQFgAXAR8F7cWWslc6Ts4wP6r/ni6JGzj/GyJO7txV/SHy/G6+JFexwmIjcCh4wxtxWrTds01HkgIoNwZzjdbIz5XcEailaNAM4Bzk1/TMdiyHcGg7vOHz929BF/7QBrcQP8JPBsvC7e9q5PLhARGQl0GmMOiEh/4HHgu8aYZcWqwTYNdS+lR1iXAY8ZY35Q1MajVSOB9+CGe1r61ynAgCJV0H5quObllMgmYB3wN9ye2Nq8cBGZASwFgrgDwQ8aY26yVY8NGupeSD8+WQq8aYxZYrkcV7RKgDBuwCcBIw/7GHXY74f08C4O8Caw5ygfu4FNwEZgS3qvdFVCNNS9ICLzgRVAnLePxP2aMeaP9qrKgvsD4Ch/n9BvCg/TUCvlMzr5RCmf0VAr5TMaaqV8RkOtlM9oqJXyGQ21Uj6joVbKZzTUSvmMhlopn9FQK+UzGmqlfEZDrZTPaKiV8hkNtVI+o6FWymc01Er5jIZaKZ/RUCvlMxpqpXxGQ62Uz2iolfIZDbVSPqOhVspnNNRK+YyGWimf0VAr5TMaaqV85n8ARdVrR/CFNGAAAAAASUVORK5CYII=\n",
      "text/plain": [
       "<Figure size 576x288 with 1 Axes>"
      ]
     },
     "metadata": {},
     "output_type": "display_data"
    }
   ],
=======
   "execution_count": null,
   "id": "metallic-basket",
   "metadata": {},
   "outputs": [],
>>>>>>> 5dd842d85b2210a0dbdcebe580e52ad2ada3746c
   "source": [
    "tally[\"counts\"].value_counts().sort_index().plot.pie(y='counts', \n",
    "                                                  subplots=False, \n",
    "                                                  figsize=(8, 4))"
   ]
  },
  {
   "cell_type": "markdown",
   "id": "recorded-suicide",
   "metadata": {},
   "source": [
    "To provide a visual of the data, this pie chart shows how many neighborhoods have a certain number of playgrounds. The majority of neighborhoods contain only 1 playground, with more playgrounds being sequentially rarer.\n",
    "\n",
    "Taking only playground total into account, Squirrel Hill South appears to be the best neighborhood for befriending an alien."
   ]
  },
  {
   "cell_type": "markdown",
   "id": "difficult-visibility",
   "metadata": {},
   "source": [
    "---"
   ]
  },
  {
   "cell_type": "markdown",
   "id": "contained-cornell",
   "metadata": {},
   "source": [
    "### Public Art"
   ]
  },
  {
   "cell_type": "markdown",
   "id": "stuck-anderson",
   "metadata": {},
   "source": [
    "After some time on the b-ball court and the monkey bars, your alien friend might be a little tired and wishes to relax"
   ]
  },
  {
   "cell_type": "markdown",
   "id": "geographic-calculator",
   "metadata": {},
   "source": [
    "Let's investigate what the art scene is like around Pittsburgh!"
   ]
  },
  {
   "cell_type": "code",
<<<<<<< HEAD
   "execution_count": 10,
   "id": "religious-collectible",
   "metadata": {},
   "outputs": [
    {
     "data": {
      "text/html": [
       "<div>\n",
       "<style scoped>\n",
       "    .dataframe tbody tr th:only-of-type {\n",
       "        vertical-align: middle;\n",
       "    }\n",
       "\n",
       "    .dataframe tbody tr th {\n",
       "        vertical-align: top;\n",
       "    }\n",
       "\n",
       "    .dataframe thead th {\n",
       "        text-align: right;\n",
       "    }\n",
       "</style>\n",
       "<table border=\"1\" class=\"dataframe\">\n",
       "  <thead>\n",
       "    <tr style=\"text-align: right;\">\n",
       "      <th></th>\n",
       "      <th>id</th>\n",
       "      <th>name</th>\n",
       "      <th>title</th>\n",
       "      <th>artist_name</th>\n",
       "      <th>art_type</th>\n",
       "      <th>park</th>\n",
       "      <th>image</th>\n",
       "      <th>neighborhood</th>\n",
       "      <th>council_district</th>\n",
       "      <th>ward</th>\n",
       "      <th>tract</th>\n",
       "      <th>public_works_division</th>\n",
       "      <th>pli_division</th>\n",
       "      <th>police_zone</th>\n",
       "      <th>fire_zone</th>\n",
       "      <th>latitude</th>\n",
       "      <th>longitude</th>\n",
       "    </tr>\n",
       "  </thead>\n",
       "  <tbody>\n",
       "    <tr>\n",
       "      <th>0</th>\n",
       "      <td>812728309</td>\n",
       "      <td>1001</td>\n",
       "      <td>Oakwood Road Monument</td>\n",
       "      <td>NaN</td>\n",
       "      <td>NaN</td>\n",
       "      <td>NaN</td>\n",
       "      <td>NaN</td>\n",
       "      <td>Oakwood</td>\n",
       "      <td>2.0</td>\n",
       "      <td>28.0</td>\n",
       "      <td>4.200356e+10</td>\n",
       "      <td>5.0</td>\n",
       "      <td>28.0</td>\n",
       "      <td>6.0</td>\n",
       "      <td>1-19</td>\n",
       "      <td>40.429192</td>\n",
       "      <td>-80.066225</td>\n",
       "    </tr>\n",
       "    <tr>\n",
       "      <th>1</th>\n",
       "      <td>188255168</td>\n",
       "      <td>1002</td>\n",
       "      <td>Rooster Waiting For The Streetcar</td>\n",
       "      <td>James Simon</td>\n",
       "      <td>Modern and Contemporary Art</td>\n",
       "      <td>NaN</td>\n",
       "      <td>NaN</td>\n",
       "      <td>Elliott</td>\n",
       "      <td>2.0</td>\n",
       "      <td>20.0</td>\n",
       "      <td>4.200356e+10</td>\n",
       "      <td>5.0</td>\n",
       "      <td>20.0</td>\n",
       "      <td>6.0</td>\n",
       "      <td>1-17</td>\n",
       "      <td>40.442926</td>\n",
       "      <td>-80.039711</td>\n",
       "    </tr>\n",
       "    <tr>\n",
       "      <th>2</th>\n",
       "      <td>2032091917</td>\n",
       "      <td>129</td>\n",
       "      <td>Middle East Memorial Plaque</td>\n",
       "      <td>NaN</td>\n",
       "      <td>War Memorials</td>\n",
       "      <td>NaN</td>\n",
       "      <td>NaN</td>\n",
       "      <td>Central Business District</td>\n",
       "      <td>6.0</td>\n",
       "      <td>1.0</td>\n",
       "      <td>4.200302e+10</td>\n",
       "      <td>6.0</td>\n",
       "      <td>1.0</td>\n",
       "      <td>2.0</td>\n",
       "      <td>1-4</td>\n",
       "      <td>40.438092</td>\n",
       "      <td>-79.996852</td>\n",
       "    </tr>\n",
       "    <tr>\n",
       "      <th>3</th>\n",
       "      <td>1447629273</td>\n",
       "      <td>143</td>\n",
       "      <td>L'Enfant</td>\n",
       "      <td>Paul Roger-Bloche</td>\n",
       "      <td>Historic Art</td>\n",
       "      <td>NaN</td>\n",
       "      <td>NaN</td>\n",
       "      <td>Carrick</td>\n",
       "      <td>4.0</td>\n",
       "      <td>29.0</td>\n",
       "      <td>4.200329e+10</td>\n",
       "      <td>3.0</td>\n",
       "      <td>29.0</td>\n",
       "      <td>3.0</td>\n",
       "      <td>4-23</td>\n",
       "      <td>40.388748</td>\n",
       "      <td>-79.986497</td>\n",
       "    </tr>\n",
       "    <tr>\n",
       "      <th>4</th>\n",
       "      <td>1935017944</td>\n",
       "      <td>148</td>\n",
       "      <td>Veterans Memorial (Brookline)</td>\n",
       "      <td>NaN</td>\n",
       "      <td>War Memorials</td>\n",
       "      <td>Brookline Monument</td>\n",
       "      <td>NaN</td>\n",
       "      <td>Brookline</td>\n",
       "      <td>4.0</td>\n",
       "      <td>19.0</td>\n",
       "      <td>4.200319e+10</td>\n",
       "      <td>5.0</td>\n",
       "      <td>19.0</td>\n",
       "      <td>6.0</td>\n",
       "      <td>4-26</td>\n",
       "      <td>40.391721</td>\n",
       "      <td>-80.016981</td>\n",
       "    </tr>\n",
       "  </tbody>\n",
       "</table>\n",
       "</div>"
      ],
      "text/plain": [
       "           id  name                              title        artist_name  \\\n",
       "0   812728309  1001              Oakwood Road Monument                NaN   \n",
       "1   188255168  1002  Rooster Waiting For The Streetcar        James Simon   \n",
       "2  2032091917   129        Middle East Memorial Plaque                NaN   \n",
       "3  1447629273   143                           L'Enfant  Paul Roger-Bloche   \n",
       "4  1935017944   148      Veterans Memorial (Brookline)                NaN   \n",
       "\n",
       "                      art_type                park image  \\\n",
       "0                          NaN                 NaN   NaN   \n",
       "1  Modern and Contemporary Art                 NaN   NaN   \n",
       "2                War Memorials                 NaN   NaN   \n",
       "3                 Historic Art                 NaN   NaN   \n",
       "4                War Memorials  Brookline Monument   NaN   \n",
       "\n",
       "                neighborhood  council_district  ward         tract  \\\n",
       "0                    Oakwood               2.0  28.0  4.200356e+10   \n",
       "1                    Elliott               2.0  20.0  4.200356e+10   \n",
       "2  Central Business District               6.0   1.0  4.200302e+10   \n",
       "3                    Carrick               4.0  29.0  4.200329e+10   \n",
       "4                  Brookline               4.0  19.0  4.200319e+10   \n",
       "\n",
       "   public_works_division  pli_division  police_zone fire_zone   latitude  \\\n",
       "0                    5.0          28.0          6.0      1-19  40.429192   \n",
       "1                    5.0          20.0          6.0      1-17  40.442926   \n",
       "2                    6.0           1.0          2.0       1-4  40.438092   \n",
       "3                    3.0          29.0          3.0      4-23  40.388748   \n",
       "4                    5.0          19.0          6.0      4-26  40.391721   \n",
       "\n",
       "   longitude  \n",
       "0 -80.066225  \n",
       "1 -80.039711  \n",
       "2 -79.996852  \n",
       "3 -79.986497  \n",
       "4 -80.016981  "
      ]
     },
     "execution_count": 10,
     "metadata": {},
     "output_type": "execute_result"
    }
   ],
=======
   "execution_count": null,
   "id": "professional-cleveland",
   "metadata": {},
   "outputs": [],
>>>>>>> 5dd842d85b2210a0dbdcebe580e52ad2ada3746c
   "source": [
    "art_data = pd.read_csv(\"https://data.wprdc.org/datastore/dump/00d74e83-8a23-486e-841b-286e1332a151\")\n",
    "art_data.head(5)"
   ]
  },
  {
   "cell_type": "code",
<<<<<<< HEAD
   "execution_count": 11,
   "id": "green-sierra",
   "metadata": {
    "tags": []
   },
   "outputs": [
    {
     "data": {
      "text/html": [
       "<div>\n",
       "<style scoped>\n",
       "    .dataframe tbody tr th:only-of-type {\n",
       "        vertical-align: middle;\n",
       "    }\n",
       "\n",
       "    .dataframe tbody tr th {\n",
       "        vertical-align: top;\n",
       "    }\n",
       "\n",
       "    .dataframe thead th {\n",
       "        text-align: right;\n",
       "    }\n",
       "</style>\n",
       "<table border=\"1\" class=\"dataframe\">\n",
       "  <thead>\n",
       "    <tr style=\"text-align: right;\">\n",
       "      <th></th>\n",
       "      <th>neighborhood</th>\n",
       "      <th>count</th>\n",
       "    </tr>\n",
       "  </thead>\n",
       "  <tbody>\n",
       "    <tr>\n",
       "      <th>9</th>\n",
       "      <td>Central Business District</td>\n",
       "      <td>27</td>\n",
       "    </tr>\n",
       "    <tr>\n",
       "      <th>47</th>\n",
       "      <td>Squirrel Hill South</td>\n",
       "      <td>22</td>\n",
       "    </tr>\n",
       "    <tr>\n",
       "      <th>0</th>\n",
       "      <td>Allegheny Center</td>\n",
       "      <td>18</td>\n",
       "    </tr>\n",
       "    <tr>\n",
       "      <th>42</th>\n",
       "      <td>South Side Flats</td>\n",
       "      <td>10</td>\n",
       "    </tr>\n",
       "    <tr>\n",
       "      <th>25</th>\n",
       "      <td>Highland Park</td>\n",
       "      <td>10</td>\n",
       "    </tr>\n",
       "    <tr>\n",
       "      <th>32</th>\n",
       "      <td>North Shore</td>\n",
       "      <td>8</td>\n",
       "    </tr>\n",
       "    <tr>\n",
       "      <th>3</th>\n",
       "      <td>Beechview</td>\n",
       "      <td>8</td>\n",
       "    </tr>\n",
       "    <tr>\n",
       "      <th>40</th>\n",
       "      <td>Shadyside</td>\n",
       "      <td>6</td>\n",
       "    </tr>\n",
       "    <tr>\n",
       "      <th>6</th>\n",
       "      <td>Brighton Heights</td>\n",
       "      <td>5</td>\n",
       "    </tr>\n",
       "    <tr>\n",
       "      <th>11</th>\n",
       "      <td>Central Oakland</td>\n",
       "      <td>5</td>\n",
       "    </tr>\n",
       "  </tbody>\n",
       "</table>\n",
       "</div>"
      ],
      "text/plain": [
       "                 neighborhood  count\n",
       "9   Central Business District     27\n",
       "47        Squirrel Hill South     22\n",
       "0            Allegheny Center     18\n",
       "42           South Side Flats     10\n",
       "25              Highland Park     10\n",
       "32                North Shore      8\n",
       "3                   Beechview      8\n",
       "40                  Shadyside      6\n",
       "6            Brighton Heights      5\n",
       "11            Central Oakland      5"
      ]
     },
     "execution_count": 11,
     "metadata": {},
     "output_type": "execute_result"
    }
   ],
=======
   "execution_count": null,
   "id": "periodic-island",
   "metadata": {
    "tags": []
   },
   "outputs": [],
>>>>>>> 5dd842d85b2210a0dbdcebe580e52ad2ada3746c
   "source": [
    "neighborhood_art_count = art_data.groupby(by=['neighborhood'])['title'].count().reset_index(name='count').sort_values(by='count', ascending=False)\n",
    "neighborhood_art_count.head(10)"
   ]
  },
  {
   "cell_type": "markdown",
   "id": "considerable-trustee",
   "metadata": {},
   "source": [
    "This gives us the raw number of pieces of public art by neighborhood from most to least. It appears that the `Central Business District` and `Squirrel Hill South` dominate the list. "
   ]
  },
  {
   "cell_type": "code",
   "execution_count": null,
   "id": "potential-magnitude",
   "metadata": {},
   "outputs": [],
   "source": [
    "neighborhood_art_count.plot.bar(x='neighborhood', y='count')"
   ]
  },
  {
   "cell_type": "markdown",
   "id": "cultural-grave",
   "metadata": {},
   "source": [
    "This looks a little cramped. Let's try to filter out the neighborhoods with low numbers."
   ]
  },
  {
   "cell_type": "code",
   "execution_count": null,
   "id": "nonprofit-secret",
   "metadata": {},
   "outputs": [],
   "source": [
    "all_count_mask = neighborhood_art_count['count'] > 1\n",
    "neighborhood_art_count[all_count_mask].plot.bar(x='neighborhood', y='count')"
   ]
  },
  {
   "cell_type": "markdown",
   "id": "expanded-charleston",
   "metadata": {},
   "source": [
    "This still looks a little messy. Let's remove some more!"
   ]
  },
  {
   "cell_type": "code",
<<<<<<< HEAD
   "execution_count": 14,
   "id": "overall-minutes",
   "metadata": {},
   "outputs": [
    {
     "data": {
      "text/plain": [
       "<AxesSubplot:xlabel='neighborhood'>"
      ]
     },
     "execution_count": 14,
     "metadata": {},
     "output_type": "execute_result"
    },
    {
     "data": {
      "image/png": "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\n",
      "text/plain": [
       "<Figure size 432x288 with 1 Axes>"
      ]
     },
     "metadata": {
      "needs_background": "light"
     },
     "output_type": "display_data"
    }
   ],
=======
   "execution_count": null,
   "id": "ignored-impossible",
   "metadata": {},
   "outputs": [],
>>>>>>> 5dd842d85b2210a0dbdcebe580e52ad2ada3746c
   "source": [
    "all_count_mask_2 = neighborhood_art_count['count'] > 3\n",
    "neighborhood_art_count[all_count_mask_2].plot.bar(x='neighborhood', y='count')"
   ]
  },
  {
   "cell_type": "markdown",
   "id": "judicial-teddy",
   "metadata": {},
   "source": [
    "That's better!"
   ]
  },
  {
   "cell_type": "markdown",
   "id": "disturbed-adrian",
   "metadata": {},
   "source": [
    "There are many different types of art that serve a particular purpose, so it can be difficult to choose what type of art an alien would enjoy. Let's look at what types are available."
   ]
  },
  {
   "cell_type": "code",
   "execution_count": null,
   "id": "rural-promise",
   "metadata": {},
   "outputs": [],
   "source": [
    "neighborhood_art_types = art_data.groupby(by=['art_type'])['art_type'].count().reset_index(name='count').sort_values(by='count', ascending=False)\n",
    "neighborhood_art_types"
   ]
  },
  {
   "cell_type": "markdown",
   "id": "happy-stress",
   "metadata": {},
   "source": [
    "While this gives us raw counts, let's compare the counts in a more visually pleasing way."
   ]
  },
  {
   "cell_type": "code",
   "execution_count": null,
   "id": "front-disabled",
   "metadata": {},
   "outputs": [],
   "source": [
    "neighborhood_art_types.plot.bar(x='art_type',y='count')"
   ]
  },
  {
   "cell_type": "markdown",
   "id": "green-longer",
   "metadata": {},
   "source": [
    "It looks like historic artworks dominate the list. We have a few types to choose from, but what would be best for an alien? Modern and contemporary art may be confusing since it exists in a a social and emotional context that is alien (hehe) to them."
   ]
  },
  {
   "cell_type": "markdown",
   "id": "expired-starter",
   "metadata": {},
   "source": [
    "Since aliens are unfamiliar with Pittsburgh's history let alone America's history or the world's, I thought it would be nice to find some historically significant art. Since war is a significant human event, I include those in my filter."
   ]
  },
  {
   "cell_type": "code",
<<<<<<< HEAD
   "execution_count": 17,
   "id": "vulnerable-growth",
   "metadata": {},
   "outputs": [
    {
     "data": {
      "text/html": [
       "<div>\n",
       "<style scoped>\n",
       "    .dataframe tbody tr th:only-of-type {\n",
       "        vertical-align: middle;\n",
       "    }\n",
       "\n",
       "    .dataframe tbody tr th {\n",
       "        vertical-align: top;\n",
       "    }\n",
       "\n",
       "    .dataframe thead th {\n",
       "        text-align: right;\n",
       "    }\n",
       "</style>\n",
       "<table border=\"1\" class=\"dataframe\">\n",
       "  <thead>\n",
       "    <tr style=\"text-align: right;\">\n",
       "      <th></th>\n",
       "      <th>neighborhood</th>\n",
       "      <th>count</th>\n",
       "    </tr>\n",
       "  </thead>\n",
       "  <tbody>\n",
       "    <tr>\n",
       "      <th>31</th>\n",
       "      <td>Squirrel Hill South</td>\n",
       "      <td>19</td>\n",
       "    </tr>\n",
       "    <tr>\n",
       "      <th>7</th>\n",
       "      <td>Central Business District</td>\n",
       "      <td>19</td>\n",
       "    </tr>\n",
       "    <tr>\n",
       "      <th>0</th>\n",
       "      <td>Allegheny Center</td>\n",
       "      <td>16</td>\n",
       "    </tr>\n",
       "    <tr>\n",
       "      <th>16</th>\n",
       "      <td>Highland Park</td>\n",
       "      <td>7</td>\n",
       "    </tr>\n",
       "    <tr>\n",
       "      <th>17</th>\n",
       "      <td>Lower Lawrenceville</td>\n",
       "      <td>5</td>\n",
       "    </tr>\n",
       "    <tr>\n",
       "      <th>9</th>\n",
       "      <td>Central Oakland</td>\n",
       "      <td>5</td>\n",
       "    </tr>\n",
       "    <tr>\n",
       "      <th>27</th>\n",
       "      <td>South Side Flats</td>\n",
       "      <td>4</td>\n",
       "    </tr>\n",
       "    <tr>\n",
       "      <th>4</th>\n",
       "      <td>Brighton Heights</td>\n",
       "      <td>4</td>\n",
       "    </tr>\n",
       "    <tr>\n",
       "      <th>1</th>\n",
       "      <td>Beechview</td>\n",
       "      <td>4</td>\n",
       "    </tr>\n",
       "    <tr>\n",
       "      <th>30</th>\n",
       "      <td>Spring Hill-City View</td>\n",
       "      <td>3</td>\n",
       "    </tr>\n",
       "  </tbody>\n",
       "</table>\n",
       "</div>"
      ],
      "text/plain": [
       "                 neighborhood  count\n",
       "31        Squirrel Hill South     19\n",
       "7   Central Business District     19\n",
       "0            Allegheny Center     16\n",
       "16              Highland Park      7\n",
       "17        Lower Lawrenceville      5\n",
       "9             Central Oakland      5\n",
       "27           South Side Flats      4\n",
       "4            Brighton Heights      4\n",
       "1                   Beechview      4\n",
       "30      Spring Hill-City View      3"
      ]
     },
     "execution_count": 17,
     "metadata": {},
     "output_type": "execute_result"
    }
   ],
=======
   "execution_count": null,
   "id": "casual-auditor",
   "metadata": {},
   "outputs": [],
>>>>>>> 5dd842d85b2210a0dbdcebe580e52ad2ada3746c
   "source": [
    "historic_art_type_mask = art_data['art_type'].str.contains('Historic|War', na=False)\n",
    "neighborhood_historic_art = art_data[historic_art_type_mask].groupby(by=['neighborhood'])['title'].count().reset_index(name='count').sort_values(by=['count', 'neighborhood'], ascending=False)\n",
    "neighborhood_historic_art.head(10)"
   ]
  },
  {
   "cell_type": "markdown",
   "id": "deadly-south",
   "metadata": {},
   "source": [
    "Looks like we have our winners! To the bar chart!"
   ]
  },
  {
   "cell_type": "code",
   "execution_count": null,
   "id": "fluid-hollow",
   "metadata": {},
   "outputs": [],
   "source": [
    "neighborhood_historic_art.plot.bar(x='neighborhood',y='count')"
   ]
  },
  {
   "cell_type": "markdown",
   "id": "specified-designation",
   "metadata": {},
   "source": [
    "This looks a little crowded. Let's get rid of the neighborhoods with the lowest counts."
   ]
  },
  {
   "cell_type": "code",
   "execution_count": null,
   "id": "intended-tongue",
   "metadata": {},
   "outputs": [],
   "source": [
    "count_mask = neighborhood_historic_art['count'] > 1\n",
    "neighborhood_historic_art[count_mask].plot.bar(x='neighborhood',y='count')"
   ]
  },
  {
   "cell_type": "markdown",
   "id": "hourly-control",
   "metadata": {},
   "source": [
    "That's better! ENHANCE!"
   ]
  },
  {
   "cell_type": "code",
<<<<<<< HEAD
   "execution_count": 20,
   "id": "banner-reference",
   "metadata": {},
   "outputs": [
    {
     "data": {
      "text/plain": [
       "<AxesSubplot:xlabel='neighborhood'>"
      ]
     },
     "execution_count": 20,
     "metadata": {},
     "output_type": "execute_result"
    },
    {
     "data": {
      "image/png": "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\n",
      "text/plain": [
       "<Figure size 432x288 with 1 Axes>"
      ]
     },
     "metadata": {
      "needs_background": "light"
     },
     "output_type": "display_data"
    }
   ],
=======
   "execution_count": null,
   "id": "indirect-theology",
   "metadata": {},
   "outputs": [],
>>>>>>> 5dd842d85b2210a0dbdcebe580e52ad2ada3746c
   "source": [
    "count_mask_2 = neighborhood_historic_art['count'] > 4\n",
    "neighborhood_historic_art[count_mask_2].plot.bar(x='neighborhood',y='count')"
   ]
  },
  {
   "cell_type": "markdown",
   "id": "noticed-biodiversity",
   "metadata": {},
   "source": [
    "Now that we've settled which neighborhood has more pieces of historic art, let's look at modern art!"
   ]
  },
  {
   "cell_type": "code",
<<<<<<< HEAD
   "execution_count": 21,
   "id": "express-tractor",
   "metadata": {},
   "outputs": [
    {
     "data": {
      "text/html": [
       "<div>\n",
       "<style scoped>\n",
       "    .dataframe tbody tr th:only-of-type {\n",
       "        vertical-align: middle;\n",
       "    }\n",
       "\n",
       "    .dataframe tbody tr th {\n",
       "        vertical-align: top;\n",
       "    }\n",
       "\n",
       "    .dataframe thead th {\n",
       "        text-align: right;\n",
       "    }\n",
       "</style>\n",
       "<table border=\"1\" class=\"dataframe\">\n",
       "  <thead>\n",
       "    <tr style=\"text-align: right;\">\n",
       "      <th></th>\n",
       "      <th>neighborhood</th>\n",
       "      <th>count</th>\n",
       "    </tr>\n",
       "  </thead>\n",
       "  <tbody>\n",
       "    <tr>\n",
       "      <th>7</th>\n",
       "      <td>Central Business District</td>\n",
       "      <td>7</td>\n",
       "    </tr>\n",
       "    <tr>\n",
       "      <th>20</th>\n",
       "      <td>North Shore</td>\n",
       "      <td>6</td>\n",
       "    </tr>\n",
       "    <tr>\n",
       "      <th>25</th>\n",
       "      <td>Shadyside</td>\n",
       "      <td>5</td>\n",
       "    </tr>\n",
       "    <tr>\n",
       "      <th>26</th>\n",
       "      <td>South Side Flats</td>\n",
       "      <td>4</td>\n",
       "    </tr>\n",
       "    <tr>\n",
       "      <th>16</th>\n",
       "      <td>Hazelwood</td>\n",
       "      <td>4</td>\n",
       "    </tr>\n",
       "    <tr>\n",
       "      <th>29</th>\n",
       "      <td>Squirrel Hill South</td>\n",
       "      <td>3</td>\n",
       "    </tr>\n",
       "    <tr>\n",
       "      <th>17</th>\n",
       "      <td>Highland Park</td>\n",
       "      <td>3</td>\n",
       "    </tr>\n",
       "    <tr>\n",
       "      <th>21</th>\n",
       "      <td>Perry North</td>\n",
       "      <td>2</td>\n",
       "    </tr>\n",
       "    <tr>\n",
       "      <th>18</th>\n",
       "      <td>Lincoln-Lemington-Belmar</td>\n",
       "      <td>2</td>\n",
       "    </tr>\n",
       "    <tr>\n",
       "      <th>13</th>\n",
       "      <td>Elliott</td>\n",
       "      <td>2</td>\n",
       "    </tr>\n",
       "  </tbody>\n",
       "</table>\n",
       "</div>"
      ],
      "text/plain": [
       "                 neighborhood  count\n",
       "7   Central Business District      7\n",
       "20                North Shore      6\n",
       "25                  Shadyside      5\n",
       "26           South Side Flats      4\n",
       "16                  Hazelwood      4\n",
       "29        Squirrel Hill South      3\n",
       "17              Highland Park      3\n",
       "21                Perry North      2\n",
       "18   Lincoln-Lemington-Belmar      2\n",
       "13                    Elliott      2"
      ]
     },
     "execution_count": 21,
     "metadata": {},
     "output_type": "execute_result"
    }
   ],
=======
   "execution_count": null,
   "id": "green-constitution",
   "metadata": {},
   "outputs": [],
>>>>>>> 5dd842d85b2210a0dbdcebe580e52ad2ada3746c
   "source": [
    "modern_art_type_mask = art_data['art_type'].str.contains('Modern', na=False)\n",
    "neighborhood_modern_art = art_data[modern_art_type_mask].groupby(by=['neighborhood'])['title'].count().reset_index(name='count').sort_values(by=['count', 'neighborhood'], ascending=False)\n",
    "neighborhood_modern_art.head(10)"
   ]
  },
  {
   "cell_type": "markdown",
   "id": "stretch-sustainability",
   "metadata": {
    "tags": []
   },
   "source": [
    "It looks like there are far fewer modern pieces of art scattered across the city than historic pieces. Let's get a better view."
   ]
  },
  {
   "cell_type": "code",
   "execution_count": null,
   "id": "early-manchester",
   "metadata": {},
   "outputs": [],
   "source": [
    "neighborhood_modern_art.plot.bar(x='neighborhood',y='count')"
   ]
  },
  {
   "cell_type": "markdown",
   "id": "killing-victorian",
   "metadata": {},
   "source": [
    "Why must there be so many neighborhoods! Anyway, let's do what we did last time by removing neighborhoods with only 1 row."
   ]
  },
  {
   "cell_type": "code",
<<<<<<< HEAD
   "execution_count": 23,
   "id": "robust-conservation",
   "metadata": {},
   "outputs": [
    {
     "data": {
      "text/plain": [
       "<AxesSubplot:xlabel='neighborhood'>"
      ]
     },
     "execution_count": 23,
     "metadata": {},
     "output_type": "execute_result"
    },
    {
     "data": {
      "image/png": "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\n",
      "text/plain": [
       "<Figure size 432x288 with 1 Axes>"
      ]
     },
     "metadata": {
      "needs_background": "light"
     },
     "output_type": "display_data"
    }
   ],
=======
   "execution_count": null,
   "id": "ordered-lewis",
   "metadata": {},
   "outputs": [],
>>>>>>> 5dd842d85b2210a0dbdcebe580e52ad2ada3746c
   "source": [
    "modern_art_count_mask = neighborhood_modern_art['count'] > 2\n",
    "neighborhood_modern_art[modern_art_count_mask].plot.bar(x='neighborhood',y='count')"
   ]
  },
  {
   "cell_type": "markdown",
   "id": "solid-jacksonville",
   "metadata": {},
   "source": [
    "It looks like the `Central Business District` takes a commanding lead over `Squirrel Hill South` in the modern art department. Sure you could take an alien there to see some more modern art, but Downtown would be too overwhelming. You want to start off in a quieter place when you first meet. How are they supposed to land their spaceship Downtown? Parking there is a hot commodity. The `Central Business District` has the most are overall and the most modern art, but `Squirrel Hill South` ties for historic art."
   ]
  },
  {
   "cell_type": "markdown",
   "id": "inclusive-mediterranean",
   "metadata": {},
   "source": [
    "## Conclusion"
   ]
  },
  {
   "cell_type": "markdown",
   "id": "laden-cleaners",
   "metadata": {},
   "source": [
    "We ultimately decided **Squirrel Hill South** was the best neighborhood.\n",
    "\n",
    "It ranked 1st in the Playgrounds metric, ranked 1st (tied) in public historic art and 2nd for all art, and ranked 3rd (tied) in Courts and Rinks. No other neighborhood was consistently high-ranking in all of our metrics."
   ]
  }
 ],
 "metadata": {
  "kernelspec": {
   "display_name": "Python 3",
   "language": "python",
   "name": "python3"
  },
  "language_info": {
   "codemirror_mode": {
    "name": "ipython",
    "version": 3
   },
   "file_extension": ".py",
   "mimetype": "text/x-python",
   "name": "python",
   "nbconvert_exporter": "python",
   "pygments_lexer": "ipython3",
   "version": "3.9.3"
  }
 },
 "nbformat": 4,
 "nbformat_minor": 5
}
