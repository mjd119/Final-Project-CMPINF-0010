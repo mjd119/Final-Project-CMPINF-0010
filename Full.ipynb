{
 "cells": [
  {
   "cell_type": "markdown",
   "id": "elementary-glucose",
   "metadata": {},
   "source": [
    "# The Best Neighborhood in Pittsburgh\n",
    "\n",
    "## Introduction\n",
    "\n",
    "We went through a few ideas before we settled on our topic. We always had recreational activities in mind, but we wanted to make this project interesting. We went from best neighborhoods for recreational activities, to best places to party, to best places for parkour, to best places to meet an alien. We asked ourselves what we would look for in a neighborhood when visiting a new city. We used a few metrics to determine the best neighborhood from publicly available datasets. "
   ]
  },
  {
   "cell_type": "markdown",
   "id": "peripheral-somerset",
   "metadata": {},
   "source": [
    "## The Metric\n",
    "### The Best Neighborhood to Befriend an Alien\n",
    "We decided to search for things that are culturally significant to humans but also easy to understand for aliens. We aim to visit the neighborhood with the most of each feature to provide a fun and meaningful visit for the alien.\n",
    "We wanted to focus on playgrounds and green spaces, but it turned out that focusing on courts/rinks was easier than analyzing land area and location. We thought adding public art into the mix would be useful since we want to communicate to this alien the values of humanity through artistic expression. This expression can not only communicate human emotion, but also human events.\n",
    "\n",
    "The following datasets were used:\n",
    "- [**City Courts and Rinks**](https://data.wprdc.org/dataset/city-of-pittsburgh-courts)\n",
    "- [**City of Pittsburgh Playgrounds**](https://data.wprdc.org/dataset/playgrounds)\n",
    "- [**City of Pittsburgh Public Art**](https://data.wprdc.org/dataset/city-of-pittsburgh-public-art)"
   ]
  },
  {
   "cell_type": "markdown",
   "id": "vocal-solution",
   "metadata": {},
   "source": [
    "---"
   ]
  },
  {
   "cell_type": "markdown",
   "id": "owned-hometown",
   "metadata": {},
   "source": [
    "## The Best Neighborhood"
   ]
  },
  {
   "cell_type": "code",
   "execution_count": 1,
   "id": "spatial-healthcare",
   "metadata": {},
   "outputs": [],
   "source": [
    "import pandas as pd\n",
    "import numpy as np\n",
    "#import geopandas unused in playground notebook\n",
    "%matplotlib inline\n",
    "import matplotlib.pyplot as plt"
   ]
  },
  {
   "cell_type": "markdown",
   "id": "substantial-empire",
   "metadata": {},
   "source": [
    "The above code cell loads in the libraries needed for this Notebook."
   ]
  },
  {
   "cell_type": "markdown",
   "id": "unlike-metro",
   "metadata": {},
   "source": [
    "### Courts and Rinks"
   ]
  },
  {
   "cell_type": "code",
   "execution_count": 2,
   "id": "manual-volunteer",
   "metadata": {},
   "outputs": [],
   "source": [
    "# load the Courts and Rinks data set\n",
    "Courts_Rinks = pd.read_csv(\"https://data.wprdc.org/datastore/dump/a5b71bfa-840c-4c86-8f43-07a9ae854227\")"
   ]
  },
  {
   "cell_type": "markdown",
   "id": "intermediate-judge",
   "metadata": {},
   "source": [
    "Here is the first question: \n",
    "#### What kind of sport would be the easiest to play with an alien?"
   ]
  },
  {
   "cell_type": "code",
   "execution_count": 3,
   "id": "distributed-professor",
   "metadata": {},
   "outputs": [
    {
     "name": "stdout",
     "output_type": "stream",
     "text": [
      "['Basketball (Full)' 'Tennis' 'Basketball (Half)' 'General Sports'\n",
      " 'Hockey' 'Dek Hockey' 'Pickleball' 'Lawn Bowling' 'Bocce' 'Volleyball'\n",
      " 'Horseshoe Pit']\n"
     ]
    }
   ],
   "source": [
    "print(Courts_Rinks[\"type\"].unique())"
   ]
  },
  {
   "cell_type": "markdown",
   "id": "bearing-indonesia",
   "metadata": {},
   "source": [
    "From these available rinks/courts we need to come up with a rational for which sport we want to play."
   ]
  },
  {
   "cell_type": "markdown",
   "id": "transparent-senior",
   "metadata": {},
   "source": [
    "#### Now we need to decide what earthly sport would be best suited to help befriend an alien...\n",
    "\n",
    "Basketball is pretty easy to explain. Ball goes in hoop. There are a few fouls that would need to be covered but in general this sport is one of the easiest to explain to our alien friends. There is also many different ways we could play instead of a normal game, like trying to play HORSE or just making free throws to enjoy a less intense version of the sport. Basketball is also really popular in many countries and would have good cultural significance. \n",
    "\n",
    "***\n"
   ]
  },
  {
   "cell_type": "markdown",
   "id": "compressed-madison",
   "metadata": {},
   "source": [
    "First, since we determined the best sport to play with an alien is basketball, lets **filter out** the sports that didn't make the cut! This way we can focus on only the basketball courts in Pittsburgh."
   ]
  },
  {
   "cell_type": "code",
   "execution_count": 4,
   "id": "familiar-given",
   "metadata": {},
   "outputs": [
    {
     "data": {
      "text/html": [
       "<div>\n",
       "<style scoped>\n",
       "    .dataframe tbody tr th:only-of-type {\n",
       "        vertical-align: middle;\n",
       "    }\n",
       "\n",
       "    .dataframe tbody tr th {\n",
       "        vertical-align: top;\n",
       "    }\n",
       "\n",
       "    .dataframe thead th {\n",
       "        text-align: right;\n",
       "    }\n",
       "</style>\n",
       "<table border=\"1\" class=\"dataframe\">\n",
       "  <thead>\n",
       "    <tr style=\"text-align: right;\">\n",
       "      <th></th>\n",
       "      <th>id</th>\n",
       "      <th>name</th>\n",
       "      <th>type</th>\n",
       "      <th>park</th>\n",
       "      <th>location</th>\n",
       "      <th>surface_material</th>\n",
       "      <th>grandstand</th>\n",
       "      <th>inactive</th>\n",
       "      <th>neighborhood</th>\n",
       "      <th>council_district</th>\n",
       "      <th>ward</th>\n",
       "      <th>tract</th>\n",
       "      <th>public_works_division</th>\n",
       "      <th>pli_division</th>\n",
       "      <th>police_zone</th>\n",
       "      <th>fire_zone</th>\n",
       "      <th>latitude</th>\n",
       "      <th>longitude</th>\n",
       "    </tr>\n",
       "  </thead>\n",
       "  <tbody>\n",
       "    <tr>\n",
       "      <th>0</th>\n",
       "      <td>1592343416</td>\n",
       "      <td>Allegheny Commons Basketball Court 1</td>\n",
       "      <td>Basketball (Full)</td>\n",
       "      <td>Allegheny Commons</td>\n",
       "      <td>NaN</td>\n",
       "      <td>NaN</td>\n",
       "      <td>0</td>\n",
       "      <td>f</td>\n",
       "      <td>Allegheny Center</td>\n",
       "      <td>1</td>\n",
       "      <td>22</td>\n",
       "      <td>42003562700</td>\n",
       "      <td>1</td>\n",
       "      <td>22</td>\n",
       "      <td>1</td>\n",
       "      <td>1-7</td>\n",
       "      <td>40.454443</td>\n",
       "      <td>-80.008104</td>\n",
       "    </tr>\n",
       "    <tr>\n",
       "      <th>4</th>\n",
       "      <td>1157777481</td>\n",
       "      <td>Alton Park Basketball Court 1</td>\n",
       "      <td>Basketball (Half)</td>\n",
       "      <td>Alton Park</td>\n",
       "      <td>NaN</td>\n",
       "      <td>Asphalt</td>\n",
       "      <td>0</td>\n",
       "      <td>f</td>\n",
       "      <td>Beechview</td>\n",
       "      <td>4</td>\n",
       "      <td>19</td>\n",
       "      <td>42003191600</td>\n",
       "      <td>5</td>\n",
       "      <td>19</td>\n",
       "      <td>6</td>\n",
       "      <td>4-28</td>\n",
       "      <td>40.414152</td>\n",
       "      <td>-80.022305</td>\n",
       "    </tr>\n",
       "    <tr>\n",
       "      <th>5</th>\n",
       "      <td>299909706</td>\n",
       "      <td>Alton Park Basketball Court 2</td>\n",
       "      <td>Basketball (Full)</td>\n",
       "      <td>Alton Park</td>\n",
       "      <td>NaN</td>\n",
       "      <td>Asphalt</td>\n",
       "      <td>0</td>\n",
       "      <td>f</td>\n",
       "      <td>Beechview</td>\n",
       "      <td>4</td>\n",
       "      <td>19</td>\n",
       "      <td>42003191600</td>\n",
       "      <td>5</td>\n",
       "      <td>19</td>\n",
       "      <td>6</td>\n",
       "      <td>4-28</td>\n",
       "      <td>40.414155</td>\n",
       "      <td>-80.022088</td>\n",
       "    </tr>\n",
       "    <tr>\n",
       "      <th>6</th>\n",
       "      <td>912994212</td>\n",
       "      <td>Ammon Park Basketball Court 1</td>\n",
       "      <td>Basketball (Full)</td>\n",
       "      <td>Ammon Park</td>\n",
       "      <td>NaN</td>\n",
       "      <td>Asphalt</td>\n",
       "      <td>0</td>\n",
       "      <td>f</td>\n",
       "      <td>Bedford Dwellings</td>\n",
       "      <td>6</td>\n",
       "      <td>5</td>\n",
       "      <td>42003050900</td>\n",
       "      <td>3</td>\n",
       "      <td>5</td>\n",
       "      <td>2</td>\n",
       "      <td>2-5</td>\n",
       "      <td>40.449331</td>\n",
       "      <td>-79.977473</td>\n",
       "    </tr>\n",
       "    <tr>\n",
       "      <th>7</th>\n",
       "      <td>1342647628</td>\n",
       "      <td>Ammon Park Basketball Court 2</td>\n",
       "      <td>Basketball (Full)</td>\n",
       "      <td>Ammon Park</td>\n",
       "      <td>NaN</td>\n",
       "      <td>Asphalt</td>\n",
       "      <td>0</td>\n",
       "      <td>f</td>\n",
       "      <td>Bedford Dwellings</td>\n",
       "      <td>6</td>\n",
       "      <td>5</td>\n",
       "      <td>42003050900</td>\n",
       "      <td>3</td>\n",
       "      <td>5</td>\n",
       "      <td>2</td>\n",
       "      <td>2-5</td>\n",
       "      <td>40.449184</td>\n",
       "      <td>-79.977371</td>\n",
       "    </tr>\n",
       "  </tbody>\n",
       "</table>\n",
       "</div>"
      ],
      "text/plain": [
       "           id                                  name               type  \\\n",
       "0  1592343416  Allegheny Commons Basketball Court 1  Basketball (Full)   \n",
       "4  1157777481         Alton Park Basketball Court 1  Basketball (Half)   \n",
       "5   299909706         Alton Park Basketball Court 2  Basketball (Full)   \n",
       "6   912994212         Ammon Park Basketball Court 1  Basketball (Full)   \n",
       "7  1342647628         Ammon Park Basketball Court 2  Basketball (Full)   \n",
       "\n",
       "                park location surface_material  grandstand inactive  \\\n",
       "0  Allegheny Commons      NaN              NaN           0        f   \n",
       "4         Alton Park      NaN          Asphalt           0        f   \n",
       "5         Alton Park      NaN          Asphalt           0        f   \n",
       "6         Ammon Park      NaN          Asphalt           0        f   \n",
       "7         Ammon Park      NaN          Asphalt           0        f   \n",
       "\n",
       "        neighborhood  council_district  ward        tract  \\\n",
       "0   Allegheny Center                 1    22  42003562700   \n",
       "4          Beechview                 4    19  42003191600   \n",
       "5          Beechview                 4    19  42003191600   \n",
       "6  Bedford Dwellings                 6     5  42003050900   \n",
       "7  Bedford Dwellings                 6     5  42003050900   \n",
       "\n",
       "   public_works_division  pli_division  police_zone fire_zone   latitude  \\\n",
       "0                      1            22            1       1-7  40.454443   \n",
       "4                      5            19            6      4-28  40.414152   \n",
       "5                      5            19            6      4-28  40.414155   \n",
       "6                      3             5            2       2-5  40.449331   \n",
       "7                      3             5            2       2-5  40.449184   \n",
       "\n",
       "   longitude  \n",
       "0 -80.008104  \n",
       "4 -80.022305  \n",
       "5 -80.022088  \n",
       "6 -79.977473  \n",
       "7 -79.977371  "
      ]
     },
     "execution_count": 4,
     "metadata": {},
     "output_type": "execute_result"
    }
   ],
   "source": [
    "query_mask = Courts_Rinks['type'].str.contains(\"Basketball\")\n",
    "\n",
    "basketball = Courts_Rinks[query_mask]\n",
    "\n",
    "basketball.head(5)"
   ]
  },
  {
   "cell_type": "markdown",
   "id": "expired-pathology",
   "metadata": {},
   "source": [
    "Now that we filtered our data set down to only basketball courts, we can count the number of basketball courts in each neighborhood.\n",
    "\n",
    "Below is a table of the top 10 neighborhoods that have the most basketball courts."
   ]
  },
  {
   "cell_type": "code",
   "execution_count": 25,
   "id": "impressed-family",
   "metadata": {},
   "outputs": [
    {
     "data": {
      "text/html": [
       "<div>\n",
       "<style scoped>\n",
       "    .dataframe tbody tr th:only-of-type {\n",
       "        vertical-align: middle;\n",
       "    }\n",
       "\n",
       "    .dataframe tbody tr th {\n",
       "        vertical-align: top;\n",
       "    }\n",
       "\n",
       "    .dataframe thead th {\n",
       "        text-align: right;\n",
       "    }\n",
       "</style>\n",
       "<table border=\"1\" class=\"dataframe\">\n",
       "  <thead>\n",
       "    <tr style=\"text-align: right;\">\n",
       "      <th></th>\n",
       "      <th>neighborhood</th>\n",
       "      <th>counts</th>\n",
       "    </tr>\n",
       "  </thead>\n",
       "  <tbody>\n",
       "    <tr>\n",
       "      <th>0</th>\n",
       "      <td>Beechview</td>\n",
       "      <td>6</td>\n",
       "    </tr>\n",
       "    <tr>\n",
       "      <th>1</th>\n",
       "      <td>South Side Slopes</td>\n",
       "      <td>5</td>\n",
       "    </tr>\n",
       "    <tr>\n",
       "      <th>2</th>\n",
       "      <td>Hazelwood</td>\n",
       "      <td>5</td>\n",
       "    </tr>\n",
       "    <tr>\n",
       "      <th>3</th>\n",
       "      <td>Terrace Village</td>\n",
       "      <td>4</td>\n",
       "    </tr>\n",
       "    <tr>\n",
       "      <th>4</th>\n",
       "      <td>Squirrel Hill South</td>\n",
       "      <td>4</td>\n",
       "    </tr>\n",
       "    <tr>\n",
       "      <th>5</th>\n",
       "      <td>Elliott</td>\n",
       "      <td>4</td>\n",
       "    </tr>\n",
       "    <tr>\n",
       "      <th>6</th>\n",
       "      <td>Beltzhoover</td>\n",
       "      <td>4</td>\n",
       "    </tr>\n",
       "    <tr>\n",
       "      <th>7</th>\n",
       "      <td>Sheraden</td>\n",
       "      <td>4</td>\n",
       "    </tr>\n",
       "    <tr>\n",
       "      <th>8</th>\n",
       "      <td>Troy Hill</td>\n",
       "      <td>3</td>\n",
       "    </tr>\n",
       "    <tr>\n",
       "      <th>9</th>\n",
       "      <td>Brookline</td>\n",
       "      <td>3</td>\n",
       "    </tr>\n",
       "  </tbody>\n",
       "</table>\n",
       "</div>"
      ],
      "text/plain": [
       "          neighborhood  counts\n",
       "0            Beechview       6\n",
       "1    South Side Slopes       5\n",
       "2            Hazelwood       5\n",
       "3      Terrace Village       4\n",
       "4  Squirrel Hill South       4\n",
       "5              Elliott       4\n",
       "6          Beltzhoover       4\n",
       "7             Sheraden       4\n",
       "8            Troy Hill       3\n",
       "9            Brookline       3"
      ]
     },
     "execution_count": 25,
     "metadata": {},
     "output_type": "execute_result"
    }
   ],
   "source": [
    "tally = basketball['neighborhood'].value_counts().rename_axis('neighborhood').reset_index(name='counts')\n",
    "\n",
    "tally.head(10)"
   ]
  },
  {
   "cell_type": "markdown",
   "id": "attended-stuart",
   "metadata": {},
   "source": [
    "Here is a graph of the distribtutions of neighborhoods and how many courts they have. We can see that many neighborhoods have 1 court but only one neighborhood has 6 courts."
   ]
  },
  {
   "cell_type": "code",
   "execution_count": 27,
   "id": "forty-freedom",
   "metadata": {},
   "outputs": [
    {
     "data": {
      "text/plain": [
       "<AxesSubplot:xlabel='Number of Courts', ylabel='Number of Neighborhoods'>"
      ]
     },
     "execution_count": 27,
     "metadata": {},
     "output_type": "execute_result"
    },
    {
     "data": {
      "image/png": "[encoded data removed]",
      "text/plain": [
       "<Figure size 432x288 with 1 Axes>"
      ]
     },
     "metadata": {
      "needs_background": "light"
     },
     "output_type": "display_data"
    }
   ],
   "source": [
    "tally[\"counts\"].value_counts().sort_index().plot(kind='bar', rot=0, xlabel = \"Number of Courts\", ylabel = \"Number of Neighborhoods\")"
   ]
  },
  {
   "cell_type": "markdown",
   "id": "literary-progress",
   "metadata": {},
   "source": [
    "As shown in the table and the graph, we can see that according to the number of basketball courts in Pittsburgh, Beechview is the best neighborhood for befriending an alien!"
   ]
  },
  {
   "cell_type": "markdown",
   "id": "given-reservation",
   "metadata": {
    "tags": []
   },
   "source": [
    "---\n",
    "\n",
    "### Playgrounds\n",
    "\n",
    "Just like sports courts and rinks, playgrounds provide an area to have fun and unwind. They're also pretty safe, being built with children in mind, making them an excellent, non-dangerous choice for our alien buddy.\n",
    "\n",
    "To ensure there's plenty of variety, the neighborhood with the most playgrounds will be evaluated."
   ]
  },
  {
   "cell_type": "code",
   "execution_count": 7,
   "id": "indian-bumper",
   "metadata": {},
   "outputs": [],
   "source": [
    "# load Playgrounds data from WPRDC\n",
    "playground_data = pd.read_csv(\"https://data.wprdc.org/datastore/dump/47350364-44a8-4d15-b6e0-5f79ddff9367\",\n",
    "                           index_col=\"id\") # using id as row index"
   ]
  },
  {
   "cell_type": "markdown",
   "id": "photographic-ownership",
   "metadata": {},
   "source": [
    "The data for Playgrounds in Pittsburgh is downloaded directly from the WPRDC."
   ]
  },
  {
   "cell_type": "code",
   "execution_count": 8,
   "id": "magnetic-theology",
   "metadata": {},
   "outputs": [
    {
     "data": {
      "text/html": [
       "<div>\n",
       "<style scoped>\n",
       "    .dataframe tbody tr th:only-of-type {\n",
       "        vertical-align: middle;\n",
       "    }\n",
       "\n",
       "    .dataframe tbody tr th {\n",
       "        vertical-align: top;\n",
       "    }\n",
       "\n",
       "    .dataframe thead th {\n",
       "        text-align: right;\n",
       "    }\n",
       "</style>\n",
       "<table border=\"1\" class=\"dataframe\">\n",
       "  <thead>\n",
       "    <tr style=\"text-align: right;\">\n",
       "      <th></th>\n",
       "      <th>neighborhood</th>\n",
       "      <th>counts</th>\n",
       "    </tr>\n",
       "  </thead>\n",
       "  <tbody>\n",
       "    <tr>\n",
       "      <th>0</th>\n",
       "      <td>Squirrel Hill South</td>\n",
       "      <td>8</td>\n",
       "    </tr>\n",
       "    <tr>\n",
       "      <th>1</th>\n",
       "      <td>Beechview</td>\n",
       "      <td>5</td>\n",
       "    </tr>\n",
       "    <tr>\n",
       "      <th>2</th>\n",
       "      <td>South Side Slopes</td>\n",
       "      <td>5</td>\n",
       "    </tr>\n",
       "    <tr>\n",
       "      <th>3</th>\n",
       "      <td>Allegheny Center</td>\n",
       "      <td>4</td>\n",
       "    </tr>\n",
       "    <tr>\n",
       "      <th>4</th>\n",
       "      <td>Beltzhoover</td>\n",
       "      <td>4</td>\n",
       "    </tr>\n",
       "    <tr>\n",
       "      <th>5</th>\n",
       "      <td>Highland Park</td>\n",
       "      <td>4</td>\n",
       "    </tr>\n",
       "    <tr>\n",
       "      <th>6</th>\n",
       "      <td>Sheraden</td>\n",
       "      <td>4</td>\n",
       "    </tr>\n",
       "    <tr>\n",
       "      <th>7</th>\n",
       "      <td>Carrick</td>\n",
       "      <td>3</td>\n",
       "    </tr>\n",
       "    <tr>\n",
       "      <th>8</th>\n",
       "      <td>Crawford-Roberts</td>\n",
       "      <td>3</td>\n",
       "    </tr>\n",
       "    <tr>\n",
       "      <th>9</th>\n",
       "      <td>Mount Washington</td>\n",
       "      <td>3</td>\n",
       "    </tr>\n",
       "  </tbody>\n",
       "</table>\n",
       "</div>"
      ],
      "text/plain": [
       "          neighborhood  counts\n",
       "0  Squirrel Hill South       8\n",
       "1            Beechview       5\n",
       "2    South Side Slopes       5\n",
       "3     Allegheny Center       4\n",
       "4          Beltzhoover       4\n",
       "5        Highland Park       4\n",
       "6             Sheraden       4\n",
       "7              Carrick       3\n",
       "8     Crawford-Roberts       3\n",
       "9     Mount Washington       3"
      ]
     },
     "execution_count": 8,
     "metadata": {},
     "output_type": "execute_result"
    }
   ],
   "source": [
    "# makes new dataframe of how many playgrounds are in each neigborhood\n",
    "tally = playground_data['neighborhood'].value_counts().rename_axis('neighborhood').reset_index(name='counts')\n",
    "\n",
    "tally.head(10)"
   ]
  },
  {
   "cell_type": "markdown",
   "id": "annoying-percentage",
   "metadata": {},
   "source": [
    "Next, a new dataset is created from the original data of Playgrounds in Pittsburgh. This new dataset, \"tally,\" counts the amount of playgrounds within each neighborhood.\n",
    "\n",
    "In the table above, the top 10 neighborhoods with the most playgrounds are shown. Squirrel Hill South seems to be the definitive winner, with 8 playgrounds in total."
   ]
  },
  {
   "cell_type": "code",
   "execution_count": 9,
   "id": "molecular-monte",
   "metadata": {},
   "outputs": [
    {
     "data": {
      "text/plain": [
       "<AxesSubplot:ylabel='counts'>"
      ]
     },
     "execution_count": 9,
     "metadata": {},
     "output_type": "execute_result"
    },
    {
     "data": {
      "image/png": "[encoded data removed]",
      "text/plain": [
       "<Figure size 576x288 with 1 Axes>"
      ]
     },
     "metadata": {},
     "output_type": "display_data"
    }
   ],
   "source": [
    "tally[\"counts\"].value_counts().sort_index().plot.pie(y='counts', \n",
    "                                                  subplots=False, \n",
    "                                                  figsize=(8, 4))"
   ]
  },
  {
   "cell_type": "markdown",
   "id": "breathing-imperial",
   "metadata": {},
   "source": [
    "To provide a visual of the data, this pie chart shows how many neighborhoods have a certain number of playgrounds. The majority of neighborhoods contain only 1 playground, with more playgrounds being sequentially rarer.\n",
    "\n",
    "Taking only playground total into account, Squirrel Hill South appears to be the best neighborhood for befriending an alien."
   ]
  },
  {
   "cell_type": "markdown",
   "id": "intense-calculator",
   "metadata": {},
   "source": [
    "### Public Art"
   ]
  },
  {
   "cell_type": "markdown",
   "id": "variable-horror",
   "metadata": {},
   "source": [
    "---"
   ]
  },
  {
   "cell_type": "markdown",
   "id": "professional-palmer",
   "metadata": {},
   "source": [
    "After some time on the b-ball court and the monkey bars, your alien friend might be a little tired and wishes to relax"
   ]
  },
  {
   "cell_type": "markdown",
   "id": "funky-stable",
   "metadata": {},
   "source": [
    "Let's investigate what the art scene is like around Pittsburgh!"
   ]
  },
  {
   "cell_type": "code",
   "execution_count": 10,
   "id": "religious-collectible",
   "metadata": {},
   "outputs": [
    {
     "data": {
      "text/html": [
       "<div>\n",
       "<style scoped>\n",
       "    .dataframe tbody tr th:only-of-type {\n",
       "        vertical-align: middle;\n",
       "    }\n",
       "\n",
       "    .dataframe tbody tr th {\n",
       "        vertical-align: top;\n",
       "    }\n",
       "\n",
       "    .dataframe thead th {\n",
       "        text-align: right;\n",
       "    }\n",
       "</style>\n",
       "<table border=\"1\" class=\"dataframe\">\n",
       "  <thead>\n",
       "    <tr style=\"text-align: right;\">\n",
       "      <th></th>\n",
       "      <th>id</th>\n",
       "      <th>name</th>\n",
       "      <th>title</th>\n",
       "      <th>artist_name</th>\n",
       "      <th>art_type</th>\n",
       "      <th>park</th>\n",
       "      <th>image</th>\n",
       "      <th>neighborhood</th>\n",
       "      <th>council_district</th>\n",
       "      <th>ward</th>\n",
       "      <th>tract</th>\n",
       "      <th>public_works_division</th>\n",
       "      <th>pli_division</th>\n",
       "      <th>police_zone</th>\n",
       "      <th>fire_zone</th>\n",
       "      <th>latitude</th>\n",
       "      <th>longitude</th>\n",
       "    </tr>\n",
       "  </thead>\n",
       "  <tbody>\n",
       "    <tr>\n",
       "      <th>0</th>\n",
       "      <td>812728309</td>\n",
       "      <td>1001</td>\n",
       "      <td>Oakwood Road Monument</td>\n",
       "      <td>NaN</td>\n",
       "      <td>NaN</td>\n",
       "      <td>NaN</td>\n",
       "      <td>NaN</td>\n",
       "      <td>Oakwood</td>\n",
       "      <td>2.0</td>\n",
       "      <td>28.0</td>\n",
       "      <td>4.200356e+10</td>\n",
       "      <td>5.0</td>\n",
       "      <td>28.0</td>\n",
       "      <td>6.0</td>\n",
       "      <td>1-19</td>\n",
       "      <td>40.429192</td>\n",
       "      <td>-80.066225</td>\n",
       "    </tr>\n",
       "    <tr>\n",
       "      <th>1</th>\n",
       "      <td>188255168</td>\n",
       "      <td>1002</td>\n",
       "      <td>Rooster Waiting For The Streetcar</td>\n",
       "      <td>James Simon</td>\n",
       "      <td>Modern and Contemporary Art</td>\n",
       "      <td>NaN</td>\n",
       "      <td>NaN</td>\n",
       "      <td>Elliott</td>\n",
       "      <td>2.0</td>\n",
       "      <td>20.0</td>\n",
       "      <td>4.200356e+10</td>\n",
       "      <td>5.0</td>\n",
       "      <td>20.0</td>\n",
       "      <td>6.0</td>\n",
       "      <td>1-17</td>\n",
       "      <td>40.442926</td>\n",
       "      <td>-80.039711</td>\n",
       "    </tr>\n",
       "    <tr>\n",
       "      <th>2</th>\n",
       "      <td>2032091917</td>\n",
       "      <td>129</td>\n",
       "      <td>Middle East Memorial Plaque</td>\n",
       "      <td>NaN</td>\n",
       "      <td>War Memorials</td>\n",
       "      <td>NaN</td>\n",
       "      <td>NaN</td>\n",
       "      <td>Central Business District</td>\n",
       "      <td>6.0</td>\n",
       "      <td>1.0</td>\n",
       "      <td>4.200302e+10</td>\n",
       "      <td>6.0</td>\n",
       "      <td>1.0</td>\n",
       "      <td>2.0</td>\n",
       "      <td>1-4</td>\n",
       "      <td>40.438092</td>\n",
       "      <td>-79.996852</td>\n",
       "    </tr>\n",
       "    <tr>\n",
       "      <th>3</th>\n",
       "      <td>1447629273</td>\n",
       "      <td>143</td>\n",
       "      <td>L'Enfant</td>\n",
       "      <td>Paul Roger-Bloche</td>\n",
       "      <td>Historic Art</td>\n",
       "      <td>NaN</td>\n",
       "      <td>NaN</td>\n",
       "      <td>Carrick</td>\n",
       "      <td>4.0</td>\n",
       "      <td>29.0</td>\n",
       "      <td>4.200329e+10</td>\n",
       "      <td>3.0</td>\n",
       "      <td>29.0</td>\n",
       "      <td>3.0</td>\n",
       "      <td>4-23</td>\n",
       "      <td>40.388748</td>\n",
       "      <td>-79.986497</td>\n",
       "    </tr>\n",
       "    <tr>\n",
       "      <th>4</th>\n",
       "      <td>1935017944</td>\n",
       "      <td>148</td>\n",
       "      <td>Veterans Memorial (Brookline)</td>\n",
       "      <td>NaN</td>\n",
       "      <td>War Memorials</td>\n",
       "      <td>Brookline Monument</td>\n",
       "      <td>NaN</td>\n",
       "      <td>Brookline</td>\n",
       "      <td>4.0</td>\n",
       "      <td>19.0</td>\n",
       "      <td>4.200319e+10</td>\n",
       "      <td>5.0</td>\n",
       "      <td>19.0</td>\n",
       "      <td>6.0</td>\n",
       "      <td>4-26</td>\n",
       "      <td>40.391721</td>\n",
       "      <td>-80.016981</td>\n",
       "    </tr>\n",
       "  </tbody>\n",
       "</table>\n",
       "</div>"
      ],
      "text/plain": [
       "           id  name                              title        artist_name  \\\n",
       "0   812728309  1001              Oakwood Road Monument                NaN   \n",
       "1   188255168  1002  Rooster Waiting For The Streetcar        James Simon   \n",
       "2  2032091917   129        Middle East Memorial Plaque                NaN   \n",
       "3  1447629273   143                           L'Enfant  Paul Roger-Bloche   \n",
       "4  1935017944   148      Veterans Memorial (Brookline)                NaN   \n",
       "\n",
       "                      art_type                park image  \\\n",
       "0                          NaN                 NaN   NaN   \n",
       "1  Modern and Contemporary Art                 NaN   NaN   \n",
       "2                War Memorials                 NaN   NaN   \n",
       "3                 Historic Art                 NaN   NaN   \n",
       "4                War Memorials  Brookline Monument   NaN   \n",
       "\n",
       "                neighborhood  council_district  ward         tract  \\\n",
       "0                    Oakwood               2.0  28.0  4.200356e+10   \n",
       "1                    Elliott               2.0  20.0  4.200356e+10   \n",
       "2  Central Business District               6.0   1.0  4.200302e+10   \n",
       "3                    Carrick               4.0  29.0  4.200329e+10   \n",
       "4                  Brookline               4.0  19.0  4.200319e+10   \n",
       "\n",
       "   public_works_division  pli_division  police_zone fire_zone   latitude  \\\n",
       "0                    5.0          28.0          6.0      1-19  40.429192   \n",
       "1                    5.0          20.0          6.0      1-17  40.442926   \n",
       "2                    6.0           1.0          2.0       1-4  40.438092   \n",
       "3                    3.0          29.0          3.0      4-23  40.388748   \n",
       "4                    5.0          19.0          6.0      4-26  40.391721   \n",
       "\n",
       "   longitude  \n",
       "0 -80.066225  \n",
       "1 -80.039711  \n",
       "2 -79.996852  \n",
       "3 -79.986497  \n",
       "4 -80.016981  "
      ]
     },
     "execution_count": 10,
     "metadata": {},
     "output_type": "execute_result"
    }
   ],
   "source": [
    "art_data = pd.read_csv(\"https://data.wprdc.org/datastore/dump/00d74e83-8a23-486e-841b-286e1332a151\")\n",
    "art_data.head(5)"
   ]
  },
  {
   "cell_type": "code",
   "execution_count": 11,
   "id": "green-sierra",
   "metadata": {
    "tags": []
   },
   "outputs": [
    {
     "data": {
      "text/html": [
       "<div>\n",
       "<style scoped>\n",
       "    .dataframe tbody tr th:only-of-type {\n",
       "        vertical-align: middle;\n",
       "    }\n",
       "\n",
       "    .dataframe tbody tr th {\n",
       "        vertical-align: top;\n",
       "    }\n",
       "\n",
       "    .dataframe thead th {\n",
       "        text-align: right;\n",
       "    }\n",
       "</style>\n",
       "<table border=\"1\" class=\"dataframe\">\n",
       "  <thead>\n",
       "    <tr style=\"text-align: right;\">\n",
       "      <th></th>\n",
       "      <th>neighborhood</th>\n",
       "      <th>count</th>\n",
       "    </tr>\n",
       "  </thead>\n",
       "  <tbody>\n",
       "    <tr>\n",
       "      <th>9</th>\n",
       "      <td>Central Business District</td>\n",
       "      <td>27</td>\n",
       "    </tr>\n",
       "    <tr>\n",
       "      <th>47</th>\n",
       "      <td>Squirrel Hill South</td>\n",
       "      <td>22</td>\n",
       "    </tr>\n",
       "    <tr>\n",
       "      <th>0</th>\n",
       "      <td>Allegheny Center</td>\n",
       "      <td>18</td>\n",
       "    </tr>\n",
       "    <tr>\n",
       "      <th>42</th>\n",
       "      <td>South Side Flats</td>\n",
       "      <td>10</td>\n",
       "    </tr>\n",
       "    <tr>\n",
       "      <th>25</th>\n",
       "      <td>Highland Park</td>\n",
       "      <td>10</td>\n",
       "    </tr>\n",
       "    <tr>\n",
       "      <th>32</th>\n",
       "      <td>North Shore</td>\n",
       "      <td>8</td>\n",
       "    </tr>\n",
       "    <tr>\n",
       "      <th>3</th>\n",
       "      <td>Beechview</td>\n",
       "      <td>8</td>\n",
       "    </tr>\n",
       "    <tr>\n",
       "      <th>40</th>\n",
       "      <td>Shadyside</td>\n",
       "      <td>6</td>\n",
       "    </tr>\n",
       "    <tr>\n",
       "      <th>6</th>\n",
       "      <td>Brighton Heights</td>\n",
       "      <td>5</td>\n",
       "    </tr>\n",
       "    <tr>\n",
       "      <th>11</th>\n",
       "      <td>Central Oakland</td>\n",
       "      <td>5</td>\n",
       "    </tr>\n",
       "  </tbody>\n",
       "</table>\n",
       "</div>"
      ],
      "text/plain": [
       "                 neighborhood  count\n",
       "9   Central Business District     27\n",
       "47        Squirrel Hill South     22\n",
       "0            Allegheny Center     18\n",
       "42           South Side Flats     10\n",
       "25              Highland Park     10\n",
       "32                North Shore      8\n",
       "3                   Beechview      8\n",
       "40                  Shadyside      6\n",
       "6            Brighton Heights      5\n",
       "11            Central Oakland      5"
      ]
     },
     "execution_count": 11,
     "metadata": {},
     "output_type": "execute_result"
    }
   ],
   "source": [
    "neighborhood_art_count = art_data.groupby(by=['neighborhood'])['title'].count().reset_index(name='count').sort_values(by='count', ascending=False)\n",
    "neighborhood_art_count.head(10)"
   ]
  },
  {
   "cell_type": "markdown",
   "id": "competitive-migration",
   "metadata": {},
   "source": [
    "This gives us the raw number of pieces of public art by neighborhood from most to least. It appears that the `Central Business District` and `Squirrel Hill South` dominate the list. "
   ]
  },
  {
   "cell_type": "code",
   "execution_count": 12,
   "id": "monetary-involvement",
   "metadata": {},
   "outputs": [
    {
     "data": {
      "text/plain": [
       "<AxesSubplot:xlabel='neighborhood'>"
      ]
     },
     "execution_count": 12,
     "metadata": {},
     "output_type": "execute_result"
    },
    {
     "data": {
      "image/png": "[encoded data removed]",
      "text/plain": [
       "<Figure size 432x288 with 1 Axes>"
      ]
     },
     "metadata": {
      "needs_background": "light"
     },
     "output_type": "display_data"
    }
   ],
   "source": [
    "neighborhood_art_count.plot.bar(x='neighborhood', y='count')"
   ]
  },
  {
   "cell_type": "markdown",
   "id": "disturbed-worcester",
   "metadata": {},
   "source": [
    "This looks a little cramped. Let's try to filter out the neighborhoods with low numbers."
   ]
  },
  {
   "cell_type": "code",
   "execution_count": 13,
   "id": "atmospheric-thermal",
   "metadata": {},
   "outputs": [
    {
     "data": {
      "text/plain": [
       "<AxesSubplot:xlabel='neighborhood'>"
      ]
     },
     "execution_count": 13,
     "metadata": {},
     "output_type": "execute_result"
    },
    {
     "data": {
      "image/png": "[encoded data removed]",
      "text/plain": [
       "<Figure size 432x288 with 1 Axes>"
      ]
     },
     "metadata": {
      "needs_background": "light"
     },
     "output_type": "display_data"
    }
   ],
   "source": [
    "all_count_mask = neighborhood_art_count['count'] > 1\n",
    "neighborhood_art_count[all_count_mask].plot.bar(x='neighborhood', y='count')"
   ]
  },
  {
   "cell_type": "markdown",
   "id": "affiliated-detail",
   "metadata": {},
   "source": [
    "This still looks a little messy. Let's remove some more!"
   ]
  },
  {
   "cell_type": "code",
   "execution_count": 14,
   "id": "overall-minutes",
   "metadata": {},
   "outputs": [
    {
     "data": {
      "text/plain": [
       "<AxesSubplot:xlabel='neighborhood'>"
      ]
     },
     "execution_count": 14,
     "metadata": {},
     "output_type": "execute_result"
    },
    {
     "data": {
      "image/png": "[encoded data removed]",
      "text/plain": [
       "<Figure size 432x288 with 1 Axes>"
      ]
     },
     "metadata": {
      "needs_background": "light"
     },
     "output_type": "display_data"
    }
   ],
   "source": [
    "all_count_mask_2 = neighborhood_art_count['count'] > 3\n",
    "neighborhood_art_count[all_count_mask_2].plot.bar(x='neighborhood', y='count')"
   ]
  },
  {
   "cell_type": "markdown",
   "id": "spiritual-affiliate",
   "metadata": {},
   "source": [
    "That's better!"
   ]
  },
  {
   "cell_type": "markdown",
   "id": "generic-indicator",
   "metadata": {},
   "source": [
    "There are many different types of art that serve a particular purpose, so it can be difficult to choose what type of art an alien would enjoy. Let's look at what types are available."
   ]
  },
  {
   "cell_type": "code",
   "execution_count": 15,
   "id": "several-extreme",
   "metadata": {},
   "outputs": [
    {
     "data": {
      "text/html": [
       "<div>\n",
       "<style scoped>\n",
       "    .dataframe tbody tr th:only-of-type {\n",
       "        vertical-align: middle;\n",
       "    }\n",
       "\n",
       "    .dataframe tbody tr th {\n",
       "        vertical-align: top;\n",
       "    }\n",
       "\n",
       "    .dataframe thead th {\n",
       "        text-align: right;\n",
       "    }\n",
       "</style>\n",
       "<table border=\"1\" class=\"dataframe\">\n",
       "  <thead>\n",
       "    <tr style=\"text-align: right;\">\n",
       "      <th></th>\n",
       "      <th>art_type</th>\n",
       "      <th>count</th>\n",
       "    </tr>\n",
       "  </thead>\n",
       "  <tbody>\n",
       "    <tr>\n",
       "      <th>2</th>\n",
       "      <td>Modern and Contemporary Art</td>\n",
       "      <td>68</td>\n",
       "    </tr>\n",
       "    <tr>\n",
       "      <th>4</th>\n",
       "      <td>War Memorials</td>\n",
       "      <td>57</td>\n",
       "    </tr>\n",
       "    <tr>\n",
       "      <th>1</th>\n",
       "      <td>Individual and Historic Monuments</td>\n",
       "      <td>40</td>\n",
       "    </tr>\n",
       "    <tr>\n",
       "      <th>0</th>\n",
       "      <td>Historic Art</td>\n",
       "      <td>23</td>\n",
       "    </tr>\n",
       "    <tr>\n",
       "      <th>3</th>\n",
       "      <td>Non-City Owned</td>\n",
       "      <td>12</td>\n",
       "    </tr>\n",
       "  </tbody>\n",
       "</table>\n",
       "</div>"
      ],
      "text/plain": [
       "                            art_type  count\n",
       "2        Modern and Contemporary Art     68\n",
       "4                      War Memorials     57\n",
       "1  Individual and Historic Monuments     40\n",
       "0                       Historic Art     23\n",
       "3                     Non-City Owned     12"
      ]
     },
     "execution_count": 15,
     "metadata": {},
     "output_type": "execute_result"
    }
   ],
   "source": [
    "neighborhood_art_types = art_data.groupby(by=['art_type'])['art_type'].count().reset_index(name='count').sort_values(by='count', ascending=False)\n",
    "neighborhood_art_types"
   ]
  },
  {
   "cell_type": "markdown",
   "id": "essential-there",
   "metadata": {},
   "source": [
    "While this gives us raw counts, let's compare the counts in a more visually pleasing way."
   ]
  },
  {
   "cell_type": "code",
   "execution_count": 16,
   "id": "removable-psychiatry",
   "metadata": {},
   "outputs": [
    {
     "data": {
      "text/plain": [
       "<AxesSubplot:xlabel='art_type'>"
      ]
     },
     "execution_count": 16,
     "metadata": {},
     "output_type": "execute_result"
    },
    {
     "data": {
      "image/png": "[encoded data removed]",
      "text/plain": [
       "<Figure size 432x288 with 1 Axes>"
      ]
     },
     "metadata": {
      "needs_background": "light"
     },
     "output_type": "display_data"
    }
   ],
   "source": [
    "neighborhood_art_types.plot.bar(x='art_type',y='count')"
   ]
  },
  {
   "cell_type": "markdown",
   "id": "peaceful-montana",
   "metadata": {},
   "source": [
    "It looks like historic artworks dominate the list. We have a few types to choose from, but what would be best for an alien? Modern and contemporary art may be confusing since it exists in a a social and emotional context that is alien (hehe) to them."
   ]
  },
  {
   "cell_type": "markdown",
   "id": "assigned-contest",
   "metadata": {},
   "source": [
    "Since aliens are unfamiliar with Pittsburgh's history let alone America's history or the world's, I thought it would be nice to find some historically significant art. Since war is a significant human event, I include those in my filter."
   ]
  },
  {
   "cell_type": "code",
   "execution_count": 17,
   "id": "vulnerable-growth",
   "metadata": {},
   "outputs": [
    {
     "data": {
      "text/html": [
       "<div>\n",
       "<style scoped>\n",
       "    .dataframe tbody tr th:only-of-type {\n",
       "        vertical-align: middle;\n",
       "    }\n",
       "\n",
       "    .dataframe tbody tr th {\n",
       "        vertical-align: top;\n",
       "    }\n",
       "\n",
       "    .dataframe thead th {\n",
       "        text-align: right;\n",
       "    }\n",
       "</style>\n",
       "<table border=\"1\" class=\"dataframe\">\n",
       "  <thead>\n",
       "    <tr style=\"text-align: right;\">\n",
       "      <th></th>\n",
       "      <th>neighborhood</th>\n",
       "      <th>count</th>\n",
       "    </tr>\n",
       "  </thead>\n",
       "  <tbody>\n",
       "    <tr>\n",
       "      <th>31</th>\n",
       "      <td>Squirrel Hill South</td>\n",
       "      <td>19</td>\n",
       "    </tr>\n",
       "    <tr>\n",
       "      <th>7</th>\n",
       "      <td>Central Business District</td>\n",
       "      <td>19</td>\n",
       "    </tr>\n",
       "    <tr>\n",
       "      <th>0</th>\n",
       "      <td>Allegheny Center</td>\n",
       "      <td>16</td>\n",
       "    </tr>\n",
       "    <tr>\n",
       "      <th>16</th>\n",
       "      <td>Highland Park</td>\n",
       "      <td>7</td>\n",
       "    </tr>\n",
       "    <tr>\n",
       "      <th>17</th>\n",
       "      <td>Lower Lawrenceville</td>\n",
       "      <td>5</td>\n",
       "    </tr>\n",
       "    <tr>\n",
       "      <th>9</th>\n",
       "      <td>Central Oakland</td>\n",
       "      <td>5</td>\n",
       "    </tr>\n",
       "    <tr>\n",
       "      <th>27</th>\n",
       "      <td>South Side Flats</td>\n",
       "      <td>4</td>\n",
       "    </tr>\n",
       "    <tr>\n",
       "      <th>4</th>\n",
       "      <td>Brighton Heights</td>\n",
       "      <td>4</td>\n",
       "    </tr>\n",
       "    <tr>\n",
       "      <th>1</th>\n",
       "      <td>Beechview</td>\n",
       "      <td>4</td>\n",
       "    </tr>\n",
       "    <tr>\n",
       "      <th>30</th>\n",
       "      <td>Spring Hill-City View</td>\n",
       "      <td>3</td>\n",
       "    </tr>\n",
       "  </tbody>\n",
       "</table>\n",
       "</div>"
      ],
      "text/plain": [
       "                 neighborhood  count\n",
       "31        Squirrel Hill South     19\n",
       "7   Central Business District     19\n",
       "0            Allegheny Center     16\n",
       "16              Highland Park      7\n",
       "17        Lower Lawrenceville      5\n",
       "9             Central Oakland      5\n",
       "27           South Side Flats      4\n",
       "4            Brighton Heights      4\n",
       "1                   Beechview      4\n",
       "30      Spring Hill-City View      3"
      ]
     },
     "execution_count": 17,
     "metadata": {},
     "output_type": "execute_result"
    }
   ],
   "source": [
    "historic_art_type_mask = art_data['art_type'].str.contains('Historic|War', na=False)\n",
    "neighborhood_historic_art = art_data[historic_art_type_mask].groupby(by=['neighborhood'])['title'].count().reset_index(name='count').sort_values(by=['count', 'neighborhood'], ascending=False)\n",
    "neighborhood_historic_art.head(10)"
   ]
  },
  {
   "cell_type": "markdown",
   "id": "expensive-middle",
   "metadata": {},
   "source": [
    "Looks like we have our winners! To the bar chart!"
   ]
  },
  {
   "cell_type": "code",
   "execution_count": 18,
   "id": "noble-partner",
   "metadata": {},
   "outputs": [
    {
     "data": {
      "text/plain": [
       "<AxesSubplot:xlabel='neighborhood'>"
      ]
     },
     "execution_count": 18,
     "metadata": {},
     "output_type": "execute_result"
    },
    {
     "data": {
      "image/png": "[encoded data removed]",
      "text/plain": [
       "<Figure size 432x288 with 1 Axes>"
      ]
     },
     "metadata": {
      "needs_background": "light"
     },
     "output_type": "display_data"
    }
   ],
   "source": [
    "neighborhood_historic_art.plot.bar(x='neighborhood',y='count')"
   ]
  },
  {
   "cell_type": "markdown",
   "id": "genetic-minute",
   "metadata": {},
   "source": [
    "This looks a little crowded. Let's get rid of the neighborhoods with the lowest counts."
   ]
  },
  {
   "cell_type": "code",
   "execution_count": 19,
   "id": "forty-communication",
   "metadata": {},
   "outputs": [
    {
     "data": {
      "text/plain": [
       "<AxesSubplot:xlabel='neighborhood'>"
      ]
     },
     "execution_count": 19,
     "metadata": {},
     "output_type": "execute_result"
    },
    {
     "data": {
      "image/png": "[encoded data removed]",
      "text/plain": [
       "<Figure size 432x288 with 1 Axes>"
      ]
     },
     "metadata": {
      "needs_background": "light"
     },
     "output_type": "display_data"
    }
   ],
   "source": [
    "count_mask = neighborhood_historic_art['count'] > 1\n",
    "neighborhood_historic_art[count_mask].plot.bar(x='neighborhood',y='count')"
   ]
  },
  {
   "cell_type": "markdown",
   "id": "narrative-updating",
   "metadata": {},
   "source": [
    "That's better! ENHANCE!"
   ]
  },
  {
   "cell_type": "code",
   "execution_count": 20,
   "id": "banner-reference",
   "metadata": {},
   "outputs": [
    {
     "data": {
      "text/plain": [
       "<AxesSubplot:xlabel='neighborhood'>"
      ]
     },
     "execution_count": 20,
     "metadata": {},
     "output_type": "execute_result"
    },
    {
     "data": {
      "image/png": "[encoded data removed]",
      "text/plain": [
       "<Figure size 432x288 with 1 Axes>"
      ]
     },
     "metadata": {
      "needs_background": "light"
     },
     "output_type": "display_data"
    }
   ],
   "source": [
    "count_mask_2 = neighborhood_historic_art['count'] > 4\n",
    "neighborhood_historic_art[count_mask_2].plot.bar(x='neighborhood',y='count')"
   ]
  },
  {
   "cell_type": "markdown",
   "id": "center-alert",
   "metadata": {},
   "source": [
    "Now that we've settled which neighborhood has more pieces of historic art, let's look at modern art!"
   ]
  },
  {
   "cell_type": "code",
   "execution_count": 21,
   "id": "express-tractor",
   "metadata": {},
   "outputs": [
    {
     "data": {
      "text/html": [
       "<div>\n",
       "<style scoped>\n",
       "    .dataframe tbody tr th:only-of-type {\n",
       "        vertical-align: middle;\n",
       "    }\n",
       "\n",
       "    .dataframe tbody tr th {\n",
       "        vertical-align: top;\n",
       "    }\n",
       "\n",
       "    .dataframe thead th {\n",
       "        text-align: right;\n",
       "    }\n",
       "</style>\n",
       "<table border=\"1\" class=\"dataframe\">\n",
       "  <thead>\n",
       "    <tr style=\"text-align: right;\">\n",
       "      <th></th>\n",
       "      <th>neighborhood</th>\n",
       "      <th>count</th>\n",
       "    </tr>\n",
       "  </thead>\n",
       "  <tbody>\n",
       "    <tr>\n",
       "      <th>7</th>\n",
       "      <td>Central Business District</td>\n",
       "      <td>7</td>\n",
       "    </tr>\n",
       "    <tr>\n",
       "      <th>20</th>\n",
       "      <td>North Shore</td>\n",
       "      <td>6</td>\n",
       "    </tr>\n",
       "    <tr>\n",
       "      <th>25</th>\n",
       "      <td>Shadyside</td>\n",
       "      <td>5</td>\n",
       "    </tr>\n",
       "    <tr>\n",
       "      <th>26</th>\n",
       "      <td>South Side Flats</td>\n",
       "      <td>4</td>\n",
       "    </tr>\n",
       "    <tr>\n",
       "      <th>16</th>\n",
       "      <td>Hazelwood</td>\n",
       "      <td>4</td>\n",
       "    </tr>\n",
       "    <tr>\n",
       "      <th>29</th>\n",
       "      <td>Squirrel Hill South</td>\n",
       "      <td>3</td>\n",
       "    </tr>\n",
       "    <tr>\n",
       "      <th>17</th>\n",
       "      <td>Highland Park</td>\n",
       "      <td>3</td>\n",
       "    </tr>\n",
       "    <tr>\n",
       "      <th>21</th>\n",
       "      <td>Perry North</td>\n",
       "      <td>2</td>\n",
       "    </tr>\n",
       "    <tr>\n",
       "      <th>18</th>\n",
       "      <td>Lincoln-Lemington-Belmar</td>\n",
       "      <td>2</td>\n",
       "    </tr>\n",
       "    <tr>\n",
       "      <th>13</th>\n",
       "      <td>Elliott</td>\n",
       "      <td>2</td>\n",
       "    </tr>\n",
       "  </tbody>\n",
       "</table>\n",
       "</div>"
      ],
      "text/plain": [
       "                 neighborhood  count\n",
       "7   Central Business District      7\n",
       "20                North Shore      6\n",
       "25                  Shadyside      5\n",
       "26           South Side Flats      4\n",
       "16                  Hazelwood      4\n",
       "29        Squirrel Hill South      3\n",
       "17              Highland Park      3\n",
       "21                Perry North      2\n",
       "18   Lincoln-Lemington-Belmar      2\n",
       "13                    Elliott      2"
      ]
     },
     "execution_count": 21,
     "metadata": {},
     "output_type": "execute_result"
    }
   ],
   "source": [
    "modern_art_type_mask = art_data['art_type'].str.contains('Modern', na=False)\n",
    "neighborhood_modern_art = art_data[modern_art_type_mask].groupby(by=['neighborhood'])['title'].count().reset_index(name='count').sort_values(by=['count', 'neighborhood'], ascending=False)\n",
    "neighborhood_modern_art.head(10)"
   ]
  },
  {
   "cell_type": "markdown",
   "id": "opposed-efficiency",
   "metadata": {
    "tags": []
   },
   "source": [
    "It looks like there are far fewer modern pieces of art scattered across the city than historic pieces. Let's get a better view."
   ]
  },
  {
   "cell_type": "code",
   "execution_count": 22,
   "id": "illegal-finish",
   "metadata": {},
   "outputs": [
    {
     "data": {
      "text/plain": [
       "<AxesSubplot:xlabel='neighborhood'>"
      ]
     },
     "execution_count": 22,
     "metadata": {},
     "output_type": "execute_result"
    },
    {
     "data": {
      "image/png": "[encoded data removed]",
      "text/plain": [
       "<Figure size 432x288 with 1 Axes>"
      ]
     },
     "metadata": {
      "needs_background": "light"
     },
     "output_type": "display_data"
    }
   ],
   "source": [
    "neighborhood_modern_art.plot.bar(x='neighborhood',y='count')"
   ]
  },
  {
   "cell_type": "markdown",
   "id": "seeing-assistant",
   "metadata": {},
   "source": [
    "Why must there be so many neighborhoods! Anyway, let's do what we did last time by removing neighborhoods with only 1 row."
   ]
  },
  {
   "cell_type": "code",
   "execution_count": 23,
   "id": "robust-conservation",
   "metadata": {},
   "outputs": [
    {
     "data": {
      "text/plain": [
       "<AxesSubplot:xlabel='neighborhood'>"
      ]
     },
     "execution_count": 23,
     "metadata": {},
     "output_type": "execute_result"
    },
    {
     "data": {
      "image/png": "[encoded data removed]",
      "text/plain": [
       "<Figure size 432x288 with 1 Axes>"
      ]
     },
     "metadata": {
      "needs_background": "light"
     },
     "output_type": "display_data"
    }
   ],
   "source": [
    "modern_art_count_mask = neighborhood_modern_art['count'] > 2\n",
    "neighborhood_modern_art[modern_art_count_mask].plot.bar(x='neighborhood',y='count')"
   ]
  },
  {
   "cell_type": "markdown",
   "id": "refined-check",
   "metadata": {},
   "source": [
    "It looks like the `Central Business District` takes a commanding lead over `Squirrel Hill South` in the modern art department. Sure you could take an alien there to see some more modern art, but Downtown would be too overwhelming. You want to start off in a quieter place when you first meet. How are they supposed to land their spaceship Downtown? Parking there is a hot commodity. The `Central Business District` has the most are overall and the most modern art, but `Squirrel Hill South` ties for historic art."
   ]
  },
  {
   "cell_type": "markdown",
   "id": "capable-evaluation",
   "metadata": {},
   "source": [
    "## Conclusion"
   ]
  },
  {
   "cell_type": "markdown",
   "id": "suffering-telephone",
   "metadata": {},
   "source": [
    "We ultimately decided **Squirrel Hill South** was the best neighborhood.\n",
    "\n",
    "It ranked 1st in the Playgrounds metric, ranked 1st (tied) in public historic art and 2nd for all art, and ranked 4th in Courts and Rinks. No other neighborhood was consistently high-ranking in all of our metrics."
   ]
  }
 ],
 "metadata": {
  "kernelspec": {
   "display_name": "Python 3",
   "language": "python",
   "name": "python3"
  },
  "language_info": {
   "codemirror_mode": {
    "name": "ipython",
    "version": 3
   },
   "file_extension": ".py",
   "mimetype": "text/x-python",
   "name": "python",
   "nbconvert_exporter": "python",
   "pygments_lexer": "ipython3",
   "version": "3.9.3"
  }
 },
 "nbformat": 4,
 "nbformat_minor": 5
}
