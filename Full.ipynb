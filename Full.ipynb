{
 "cells": [
  {
   "cell_type": "markdown",
   "id": "everyday-innocent",
   "metadata": {},
   "source": [
    "# The Best Neighborhood in Pittsburgh\n",
    "\n",
    "## Introduction\n",
    "\n",
    "We went through a few ideas before we settled on our topic. We always had recreational activities in mind, but we wanted to make this project interesting. We went from best neighborhoods for recreational activities, to best places to party, to best places for parkour, to best places to meet an alien. We asked ourselves what we would look for in a neighborhood when visiting a new city. We used a few metrics to determine the best neighborhood from publicly available datasets. "
   ]
  },
  {
   "cell_type": "markdown",
   "id": "southern-murder",
   "metadata": {},
   "source": [
    "## The Metric\n",
    "### The Best Neighborhood to Befriend an Alien\n",
    "We decided to search for things that are culturally significant to humans but also easy to understand for aliens. We aim to visit the neighborhood with the most of each feature to provide a fun and meaningful visit for the alien.\n",
    "We wanted to focus on playgrounds and green spaces, but it turned out that focusing on courts/rinks was easier than analyzing land area and location. We thought adding public art into the mix would be useful since we want to communicate to this alien the values of humanity through artistic expression. This expression can not only communicate human emotion, but also human events.\n",
    "\n",
    "The following datasets were used:\n",
    "- [**City Courts and Rinks**](https://data.wprdc.org/dataset/city-of-pittsburgh-courts)\n",
    "- [**City of Pittsburgh Playgrounds**](https://data.wprdc.org/dataset/playgrounds)\n",
    "- [**City of Pittsburgh Public Art**](https://data.wprdc.org/dataset/city-of-pittsburgh-public-art)"
   ]
  },
  {
   "cell_type": "markdown",
   "id": "mediterranean-shannon",
   "metadata": {},
   "source": [
    "---"
   ]
  },
  {
   "cell_type": "markdown",
   "id": "passing-transportation",
   "metadata": {},
   "source": [
    "## The Best Neighborhood"
   ]
  },
  {
   "cell_type": "code",
   "execution_count": null,
   "id": "labeled-trinity",
   "metadata": {},
   "outputs": [],
   "source": [
    "import pandas as pd\n",
    "import numpy as np\n",
    "#import geopandas unused in playground notebook\n",
    "%matplotlib inline\n",
    "import matplotlib.pyplot as plt"
   ]
  },
  {
   "cell_type": "markdown",
   "id": "published-apparatus",
   "metadata": {},
   "source": [
    "The above code cell loads in the libraries needed for this Notebook."
   ]
  },
  {
   "cell_type": "markdown",
   "id": "grateful-diagram",
   "metadata": {},
   "source": [
    "### Courts and Rinks"
   ]
  },
  {
   "cell_type": "code",
   "execution_count": null,
   "id": "stylish-facial",
   "metadata": {},
   "outputs": [],
   "source": [
    "# load the Courts and Rinks data set\n",
    "Courts_Rinks = pd.read_csv(\"https://data.wprdc.org/datastore/dump/a5b71bfa-840c-4c86-8f43-07a9ae854227\")"
   ]
  },
  {
   "cell_type": "markdown",
   "id": "decimal-turner",
   "metadata": {},
   "source": [
    "Here is the first question: \n",
    "#### What kind of sport would be the easiest to play with an alien?"
   ]
  },
  {
   "cell_type": "code",
   "execution_count": null,
   "id": "genuine-cisco",
   "metadata": {},
   "outputs": [],
   "source": [
    "print(Courts_Rinks[\"type\"].unique())"
   ]
  },
  {
   "cell_type": "markdown",
   "id": "collectible-wednesday",
   "metadata": {},
   "source": [
    "From these available rinks/courts we need to come up with a rational for which sport we want to play."
   ]
  },
  {
   "cell_type": "markdown",
   "id": "thorough-generic",
   "metadata": {},
   "source": [
    "#### Now we need to decide what earthly sport would be best suited to help befriend an alien...\n",
    "\n",
    "Basketball is pretty easy to explain. Ball goes in hoop. There are a few fouls that would need to be covered but in general this sport is one of the easiest to explain to our alien friends. There is also many different ways we could play instead of a normal game, like trying to play HORSE or just making free throws to enjoy a less intense version of the sport. Basketball is also really popular in many countries and would have good cultural significance. \n",
    "\n",
    "***\n"
   ]
  },
  {
   "cell_type": "markdown",
   "id": "verified-valuation",
   "metadata": {},
   "source": [
    "First, since we determined the best sport to play with an alien is basketball, lets **filter out** the sports that didn't make the cut! This way we can focus on only the basketball courts in Pittsburgh."
   ]
  },
  {
   "cell_type": "code",
   "execution_count": null,
   "id": "quiet-skating",
   "metadata": {},
   "outputs": [],
   "source": [
    "query_mask = Courts_Rinks['type'].str.contains(\"Basketball\")\n",
    "\n",
    "basketball = Courts_Rinks[query_mask]\n",
    "\n",
    "basketball.head(5)"
   ]
  },
  {
   "cell_type": "markdown",
   "id": "received-liver",
   "metadata": {},
   "source": [
    "Now that we filtered our data set down to only basketball courts, we can count the number of basketball courts in each neighborhood.\n",
    "\n",
    "Below is a table of the top 10 neighborhoods that have the most basketball courts."
   ]
  },
  {
   "cell_type": "code",
   "execution_count": null,
   "id": "basic-criterion",
   "metadata": {},
   "outputs": [],
   "source": [
    "tally = basketball['neighborhood'].value_counts().rename_axis('neighborhood').reset_index(name='counts')\n",
    "\n",
    "tally.head(10)"
   ]
  },
  {
   "cell_type": "markdown",
   "id": "intimate-microwave",
   "metadata": {},
   "source": [
    "Here is a graph of the distribtutions of neighborhoods and how many courts they have. We can see that many neighborhoods have 1 court but only one neighborhood has 6 courts."
   ]
  },
  {
   "cell_type": "code",
   "execution_count": null,
   "id": "threaded-dance",
   "metadata": {},
   "outputs": [],
   "source": [
    "tally[\"counts\"].value_counts().sort_index().plot(kind='bar', rot=0, xlabel = \"Number of Courts\", ylabel = \"Number of Neighborhoods\")"
   ]
  },
  {
   "cell_type": "markdown",
   "id": "decimal-diabetes",
   "metadata": {},
   "source": [
    "As shown in the table and the graph, we can see that according to the number of basketball courts in Pittsburgh, Beechview is the best neighborhood for befriending an alien!"
   ]
  },
  {
   "cell_type": "markdown",
   "id": "subjective-diameter",
   "metadata": {
    "tags": []
   },
   "source": [
    "---\n",
    "\n",
    "### Playgrounds\n",
    "\n",
    "Just like sports courts and rinks, playgrounds provide an area to have fun and unwind. They're also pretty safe, being built with children in mind, making them an excellent, non-dangerous choice for our alien buddy.\n",
    "\n",
    "To ensure there's plenty of variety, the neighborhood with the most playgrounds will be evaluated."
   ]
  },
  {
   "cell_type": "code",
   "execution_count": null,
   "id": "arbitrary-empty",
   "metadata": {},
   "outputs": [],
   "source": [
    "# load Playgrounds data from WPRDC\n",
    "playground_data = pd.read_csv(\"https://data.wprdc.org/datastore/dump/47350364-44a8-4d15-b6e0-5f79ddff9367\",\n",
    "                           index_col=\"id\") # using id as row index"
   ]
  },
  {
   "cell_type": "markdown",
   "id": "worth-conversation",
   "metadata": {},
   "source": [
    "The data for Playgrounds in Pittsburgh is downloaded directly from the WPRDC."
   ]
  },
  {
   "cell_type": "code",
   "execution_count": null,
   "id": "expected-indianapolis",
   "metadata": {},
   "outputs": [],
   "source": [
    "# makes new dataframe of how many playgrounds are in each neigborhood\n",
    "tally = playground_data['neighborhood'].value_counts().rename_axis('neighborhood').reset_index(name='counts')\n",
    "\n",
    "tally.head(10)"
   ]
  },
  {
   "cell_type": "markdown",
   "id": "resident-colon",
   "metadata": {},
   "source": [
    "Next, a new dataset is created from the original data of Playgrounds in Pittsburgh. This new dataset, \"tally,\" counts the amount of playgrounds within each neighborhood.\n",
    "\n",
    "In the table above, the top 10 neighborhoods with the most playgrounds are shown. Squirrel Hill South seems to be the definitive winner, with 8 playgrounds in total."
   ]
  },
  {
   "cell_type": "code",
   "execution_count": null,
   "id": "metallic-basket",
   "metadata": {},
   "outputs": [],
   "source": [
    "tally[\"counts\"].value_counts().sort_index().plot.pie(y='counts', \n",
    "                                                  subplots=False, \n",
    "                                                  figsize=(8, 4))"
   ]
  },
  {
   "cell_type": "markdown",
   "id": "recorded-suicide",
   "metadata": {},
   "source": [
    "To provide a visual of the data, this pie chart shows how many neighborhoods have a certain number of playgrounds. The majority of neighborhoods contain only 1 playground, with more playgrounds being sequentially rarer.\n",
    "\n",
    "Taking only playground total into account, Squirrel Hill South appears to be the best neighborhood for befriending an alien."
   ]
  },
  {
   "cell_type": "markdown",
   "id": "difficult-visibility",
   "metadata": {},
   "source": [
    "---"
   ]
  },
  {
   "cell_type": "markdown",
   "id": "contained-cornell",
   "metadata": {},
   "source": [
    "### Public Art"
   ]
  },
  {
   "cell_type": "markdown",
   "id": "stuck-anderson",
   "metadata": {},
   "source": [
    "After some time on the b-ball court and the monkey bars, your alien friend might be a little tired and wishes to relax"
   ]
  },
  {
   "cell_type": "markdown",
   "id": "geographic-calculator",
   "metadata": {},
   "source": [
    "Let's investigate what the art scene is like around Pittsburgh!"
   ]
  },
  {
   "cell_type": "code",
   "execution_count": null,
   "id": "professional-cleveland",
   "metadata": {},
   "outputs": [],
   "source": [
    "art_data = pd.read_csv(\"https://data.wprdc.org/datastore/dump/00d74e83-8a23-486e-841b-286e1332a151\")\n",
    "art_data.head(5)"
   ]
  },
  {
   "cell_type": "code",
   "execution_count": null,
   "id": "periodic-island",
   "metadata": {
    "tags": []
   },
   "outputs": [],
   "source": [
    "neighborhood_art_count = art_data.groupby(by=['neighborhood'])['title'].count().reset_index(name='count').sort_values(by='count', ascending=False)\n",
    "neighborhood_art_count.head(10)"
   ]
  },
  {
   "cell_type": "markdown",
   "id": "considerable-trustee",
   "metadata": {},
   "source": [
    "This gives us the raw number of pieces of public art by neighborhood from most to least. It appears that the `Central Business District` and `Squirrel Hill South` dominate the list. "
   ]
  },
  {
   "cell_type": "code",
   "execution_count": null,
   "id": "potential-magnitude",
   "metadata": {},
   "outputs": [],
   "source": [
    "neighborhood_art_count.plot.bar(x='neighborhood', y='count')"
   ]
  },
  {
   "cell_type": "markdown",
   "id": "cultural-grave",
   "metadata": {},
   "source": [
    "This looks a little cramped. Let's try to filter out the neighborhoods with low numbers."
   ]
  },
  {
   "cell_type": "code",
   "execution_count": null,
   "id": "nonprofit-secret",
   "metadata": {},
   "outputs": [],
   "source": [
    "all_count_mask = neighborhood_art_count['count'] > 1\n",
    "neighborhood_art_count[all_count_mask].plot.bar(x='neighborhood', y='count')"
   ]
  },
  {
   "cell_type": "markdown",
   "id": "expanded-charleston",
   "metadata": {},
   "source": [
    "This still looks a little messy. Let's remove some more!"
   ]
  },
  {
   "cell_type": "code",
   "execution_count": null,
   "id": "ignored-impossible",
   "metadata": {},
   "outputs": [],
   "source": [
    "all_count_mask_2 = neighborhood_art_count['count'] > 3\n",
    "neighborhood_art_count[all_count_mask_2].plot.bar(x='neighborhood', y='count')"
   ]
  },
  {
   "cell_type": "markdown",
   "id": "judicial-teddy",
   "metadata": {},
   "source": [
    "That's better!"
   ]
  },
  {
   "cell_type": "markdown",
   "id": "disturbed-adrian",
   "metadata": {},
   "source": [
    "There are many different types of art that serve a particular purpose, so it can be difficult to choose what type of art an alien would enjoy. Let's look at what types are available."
   ]
  },
  {
   "cell_type": "code",
   "execution_count": null,
   "id": "rural-promise",
   "metadata": {},
   "outputs": [],
   "source": [
    "neighborhood_art_types = art_data.groupby(by=['art_type'])['art_type'].count().reset_index(name='count').sort_values(by='count', ascending=False)\n",
    "neighborhood_art_types"
   ]
  },
  {
   "cell_type": "markdown",
   "id": "happy-stress",
   "metadata": {},
   "source": [
    "While this gives us raw counts, let's compare the counts in a more visually pleasing way."
   ]
  },
  {
   "cell_type": "code",
   "execution_count": null,
   "id": "front-disabled",
   "metadata": {},
   "outputs": [],
   "source": [
    "neighborhood_art_types.plot.bar(x='art_type',y='count')"
   ]
  },
  {
   "cell_type": "markdown",
   "id": "green-longer",
   "metadata": {},
   "source": [
    "It looks like historic artworks dominate the list. We have a few types to choose from, but what would be best for an alien? Modern and contemporary art may be confusing since it exists in a a social and emotional context that is alien (hehe) to them."
   ]
  },
  {
   "cell_type": "markdown",
   "id": "expired-starter",
   "metadata": {},
   "source": [
    "Since aliens are unfamiliar with Pittsburgh's history let alone America's history or the world's, I thought it would be nice to find some historically significant art. Since war is a significant human event, I include those in my filter."
   ]
  },
  {
   "cell_type": "code",
   "execution_count": null,
   "id": "casual-auditor",
   "metadata": {},
   "outputs": [],
   "source": [
    "historic_art_type_mask = art_data['art_type'].str.contains('Historic|War', na=False)\n",
    "neighborhood_historic_art = art_data[historic_art_type_mask].groupby(by=['neighborhood'])['title'].count().reset_index(name='count').sort_values(by=['count', 'neighborhood'], ascending=False)\n",
    "neighborhood_historic_art.head(10)"
   ]
  },
  {
   "cell_type": "markdown",
   "id": "deadly-south",
   "metadata": {},
   "source": [
    "Looks like we have our winners! To the bar chart!"
   ]
  },
  {
   "cell_type": "code",
   "execution_count": null,
   "id": "fluid-hollow",
   "metadata": {},
   "outputs": [],
   "source": [
    "neighborhood_historic_art.plot.bar(x='neighborhood',y='count')"
   ]
  },
  {
   "cell_type": "markdown",
   "id": "specified-designation",
   "metadata": {},
   "source": [
    "This looks a little crowded. Let's get rid of the neighborhoods with the lowest counts."
   ]
  },
  {
   "cell_type": "code",
   "execution_count": null,
   "id": "intended-tongue",
   "metadata": {},
   "outputs": [],
   "source": [
    "count_mask = neighborhood_historic_art['count'] > 1\n",
    "neighborhood_historic_art[count_mask].plot.bar(x='neighborhood',y='count')"
   ]
  },
  {
   "cell_type": "markdown",
   "id": "hourly-control",
   "metadata": {},
   "source": [
    "That's better! ENHANCE!"
   ]
  },
  {
   "cell_type": "code",
   "execution_count": null,
   "id": "indirect-theology",
   "metadata": {},
   "outputs": [],
   "source": [
    "count_mask_2 = neighborhood_historic_art['count'] > 4\n",
    "neighborhood_historic_art[count_mask_2].plot.bar(x='neighborhood',y='count')"
   ]
  },
  {
   "cell_type": "markdown",
   "id": "noticed-biodiversity",
   "metadata": {},
   "source": [
    "Now that we've settled which neighborhood has more pieces of historic art, let's look at modern art!"
   ]
  },
  {
   "cell_type": "code",
   "execution_count": null,
   "id": "green-constitution",
   "metadata": {},
   "outputs": [],
   "source": [
    "modern_art_type_mask = art_data['art_type'].str.contains('Modern', na=False)\n",
    "neighborhood_modern_art = art_data[modern_art_type_mask].groupby(by=['neighborhood'])['title'].count().reset_index(name='count').sort_values(by=['count', 'neighborhood'], ascending=False)\n",
    "neighborhood_modern_art.head(10)"
   ]
  },
  {
   "cell_type": "markdown",
   "id": "stretch-sustainability",
   "metadata": {
    "tags": []
   },
   "source": [
    "It looks like there are far fewer modern pieces of art scattered across the city than historic pieces. Let's get a better view."
   ]
  },
  {
   "cell_type": "code",
   "execution_count": null,
   "id": "early-manchester",
   "metadata": {},
   "outputs": [],
   "source": [
    "neighborhood_modern_art.plot.bar(x='neighborhood',y='count')"
   ]
  },
  {
   "cell_type": "markdown",
   "id": "killing-victorian",
   "metadata": {},
   "source": [
    "Why must there be so many neighborhoods! Anyway, let's do what we did last time by removing neighborhoods with only 1 row."
   ]
  },
  {
   "cell_type": "code",
   "execution_count": null,
   "id": "ordered-lewis",
   "metadata": {},
   "outputs": [],
   "source": [
    "modern_art_count_mask = neighborhood_modern_art['count'] > 2\n",
    "neighborhood_modern_art[modern_art_count_mask].plot.bar(x='neighborhood',y='count')"
   ]
  },
  {
   "cell_type": "markdown",
   "id": "solid-jacksonville",
   "metadata": {},
   "source": [
    "It looks like the `Central Business District` takes a commanding lead over `Squirrel Hill South` in the modern art department. Sure you could take an alien there to see some more modern art, but Downtown would be too overwhelming. You want to start off in a quieter place when you first meet. How are they supposed to land their spaceship Downtown? Parking there is a hot commodity. The `Central Business District` has the most are overall and the most modern art, but `Squirrel Hill South` ties for historic art."
   ]
  },
  {
   "cell_type": "markdown",
   "id": "inclusive-mediterranean",
   "metadata": {},
   "source": [
    "## Conclusion"
   ]
  },
  {
   "cell_type": "markdown",
   "id": "laden-cleaners",
   "metadata": {},
   "source": [
    "We ultimately decided **Squirrel Hill South** was the best neighborhood.\n",
    "\n",
    "It ranked 1st in the Playgrounds metric, ranked 1st (tied) in public historic art and 2nd for all art, and ranked 3rd (tied) in Courts and Rinks. No other neighborhood was consistently high-ranking in all of our metrics."
   ]
  }
 ],
 "metadata": {
  "kernelspec": {
   "display_name": "Python 3",
   "language": "python",
   "name": "python3"
  },
  "language_info": {
   "codemirror_mode": {
    "name": "ipython",
    "version": 3
   },
   "file_extension": ".py",
   "mimetype": "text/x-python",
   "name": "python",
   "nbconvert_exporter": "python",
   "pygments_lexer": "ipython3",
   "version": "3.9.2"
  }
 },
 "nbformat": 4,
 "nbformat_minor": 5
}
